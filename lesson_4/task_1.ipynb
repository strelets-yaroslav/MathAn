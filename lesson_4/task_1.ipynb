{
 "cells": [
  {
   "cell_type": "markdown",
   "metadata": {},
   "source": [
    "__1.__ Найти предел функции:\n",
    "\n",
    "### $$а)\\,\\,\\,\\,\\lim_{x\\to 6} \\frac{x^2-36}{x^2-x-30}$$\n",
    "\n",
    "### $$б)\\,\\,\\,\\,\\lim_{x\\to 7} \\frac{x^2-49}{x^2-13x+42}$$\n",
    "\n",
    "### $$в^*)\\,\\,\\,\\,\\lim_{x\\to 7} \\frac{\\sqrt{x+2}-\\sqrt[3]{x+20}}{\\sqrt[4]{x+9}-2}$$\n",
    "\n",
    "### $$г)\\,\\,\\,\\,\\lim_{x\\to 0} \\frac{3x\\,\\mbox{tg}\\,4x}{1-\\cos4x}$$\n",
    "\n",
    "### $$д^{**})\\,\\,\\,\\,\\lim_{x\\to 0} \\frac{\\sqrt2x^2\\sin4x}{(1-\\cos2x)^{\\frac{3}{2}}}$$\n",
    "\n",
    "### $$е)\\,\\,\\,\\,\\lim_{x\\to \\infty} \\Bigr(\\frac{4x}{4x+3}\\Bigl)^\\frac{5x^2}{7x-1}$$\n",
    "\n",
    "### $$ж^*)\\,\\,\\,\\,\\lim_{x\\to +0} \\frac{5^x-1}{x}$$\n",
    "\n",
    "### $$з^*)\\,\\,\\,\\,\\lim_{x\\to +\\infty} \\frac{\\ln(x^2-x+1)}{\\ln(x^{10}+x+1)}$$"
   ]
  },
  {
   "cell_type": "markdown",
   "metadata": {},
   "source": [
    "$$а)\\,\\,\\,\\,\\lim_{x\\to 6} \\frac{x^2-36}{x^2-x-30}$$\n",
    "\n",
    "$$\\lim_{x\\to 6} \\frac{x^2 - 36}{ x^2 - x - 30} = \\lim_{x\\to 6} \\frac{(x - 6)*(x + 6)}{(x - 6)*(x + 5)} = \\lim_{x\\to 6} \\frac{x + 6}{x + 5} = \\frac {12}{11}$$"
   ]
  },
  {
   "cell_type": "code",
   "execution_count": 1,
   "metadata": {},
   "outputs": [],
   "source": [
    "from sympy import *\n",
    "import warnings\n",
    "warnings.filterwarnings('ignore')\n",
    "init_printing()\n",
    "x = Symbol('x')"
   ]
  },
  {
   "cell_type": "code",
   "execution_count": 3,
   "metadata": {},
   "outputs": [
    {
     "data": {
      "image/png": "[encoded data removed]",
      "text/latex": [
       "$\\displaystyle \\frac{x^{2} - 36}{x^{2} - x - 30}$"
      ],
      "text/plain": [
       "   2       \n",
       "  x  - 36  \n",
       "───────────\n",
       " 2         \n",
       "x  - x - 30"
      ]
     },
     "execution_count": 3,
     "metadata": {},
     "output_type": "execute_result"
    }
   ],
   "source": [
    "a = (x**2 - 36) / (x**2 - x - 30)\n",
    "a"
   ]
  },
  {
   "cell_type": "code",
   "execution_count": 4,
   "metadata": {},
   "outputs": [
    {
     "data": {
      "image/png": "[encoded data removed]",
      "text/latex": [
       "$\\displaystyle \\frac{12}{11}$"
      ],
      "text/plain": [
       "12\n",
       "──\n",
       "11"
      ]
     },
     "execution_count": 4,
     "metadata": {},
     "output_type": "execute_result"
    }
   ],
   "source": [
    "limit(a, x, 6)"
   ]
  },
  {
   "cell_type": "markdown",
   "metadata": {},
   "source": [
    "$$б)\\,\\,\\,\\,\\lim_{x\\to 7} \\frac{x^2-49}{x^2-13x+42}$$\n",
    "\n",
    "$$\\lim_{x\\to 7} \\frac{x^2 - 49}{ x^2 - 13x + 42} = \\lim_{x\\to 7} \\frac{(x - 7)*(x + 7)}{(x - 7)*(x - 6)} = \\lim_{x\\to 7} \\frac{x + 7}{x - 6} = 14$$"
   ]
  },
  {
   "cell_type": "code",
   "execution_count": 8,
   "metadata": {},
   "outputs": [
    {
     "data": {
      "image/png": "[encoded data removed]",
      "text/latex": [
       "$\\displaystyle \\frac{x^{2} - 49}{x^{2} - 13 x + 42}$"
      ],
      "text/plain": [
       "    2         \n",
       "   x  - 49    \n",
       "──────────────\n",
       " 2            \n",
       "x  - 13⋅x + 42"
      ]
     },
     "execution_count": 8,
     "metadata": {},
     "output_type": "execute_result"
    }
   ],
   "source": [
    "a = (x**2 - 49) / (x**2 - 13*x + 42)\n",
    "a"
   ]
  },
  {
   "cell_type": "code",
   "execution_count": 10,
   "metadata": {},
   "outputs": [
    {
     "data": {
      "image/png": "[encoded data removed]",
      "text/latex": [
       "$\\displaystyle 14$"
      ],
      "text/plain": [
       "14"
      ]
     },
     "execution_count": 10,
     "metadata": {},
     "output_type": "execute_result"
    }
   ],
   "source": [
    "limit(a, x, 7)"
   ]
  },
  {
   "cell_type": "markdown",
   "metadata": {},
   "source": [
    "$$в^*)\\,\\,\\,\\,\\lim_{x\\to 7} \\frac{\\sqrt{x+2}-\\sqrt[3]{x+20}}{\\sqrt[4]{x+9}-2}$$\n",
    "\n",
    "Числитель будем представлять в виде разности $a^6 - b^6$, т.е. $(x + 2)^3 - (x + 20)^2$, для чего понадобится множитель $(a + b)*(a^2 - ab + b^2) * (a^2 + ab + b^2)$. Знаменатель - разность 4х степеней, т.е. нужен множитель вида $(a + b) * (a^2 + b^2)$. Тогда получаем:\n",
    "\n",
    "$$\\lim_{x\\to 7} \\frac{(x + 2)^3 - (x + 20)^2}{(x + 9) - 16} * \\frac{(\\sqrt[4]{x + 9} + 2)*(\\sqrt{x + 9} + 4)}{(\\sqrt{x + 2} + \\sqrt[3]{x + 20})*((x + 2) - \\sqrt{x + 2}*\\sqrt[3]{x + 20} + \\sqrt[3]{(x + 20)^2})*((x + 2) + \\sqrt{x + 2}*\\sqrt[3]{x + 20} + \\sqrt[3]{(x + 20)^2})}$$\n",
    "\n",
    "Разложив числитель первой дроби, получим $x^3 + 5x^2 - 28x - 392$. Учитывая, что при x = 7 уравнение будет равно 0, можно вынести (х - 7), получив следующий вид: $(x - 7) * (x^2 + 12x + 56)$. Тогда, учитывая, что в знаменателе мы также имеем (x - 7) получаем:\n",
    "\n",
    "$$\\lim_{x\\to 7} \\frac{(x^2 + 12x + 56) * (\\sqrt[4]{x + 9} + 2)*(\\sqrt{x + 9} + 4)}{(\\sqrt{x + 2} + \\sqrt[3]{x + 20})*((x + 2) - \\sqrt{x + 2}*\\sqrt[3]{x + 20} + \\sqrt[3]{(x + 20)^2})*((x + 2) + \\sqrt{x + 2}*\\sqrt[3]{x + 20} + \\sqrt[3]{(x + 20)^2})}$$\n",
    "\n",
    "Подставляем x = 7:\n",
    "\n",
    "$$\\lim_{x\\to 7} \\frac{(7^2 + 12*7 + 56) * (\\sqrt[4]{7 + 9} + 2)*(\\sqrt{7 + 9} + 4)}{(\\sqrt{7 + 2} + \\sqrt[3]{7 + 20})*((7 + 2) - \\sqrt{7 + 2}*\\sqrt[3]{7 + 20} + \\sqrt[3]{(7 + 20)^2})*((7 + 2) + \\sqrt{7 + 2}*\\sqrt[3]{7 + 20} + \\sqrt[3]{(7 + 20)^2})} = \\frac{189*4*8}{6*9*27} = \\frac{112}{27}$$"
   ]
  },
  {
   "cell_type": "code",
   "execution_count": 18,
   "metadata": {},
   "outputs": [
    {
     "data": {
      "image/png": "[encoded data removed]",
      "text/latex": [
       "$\\displaystyle \\frac{\\sqrt{x + 2} - \\sqrt[3]{x + 20}}{\\sqrt[4]{x + 9} - 2}$"
      ],
      "text/plain": [
       "  _______   3 ________\n",
       "╲╱ x + 2  - ╲╱ x + 20 \n",
       "──────────────────────\n",
       "    4 _______         \n",
       "    ╲╱ x + 9  - 2     "
      ]
     },
     "execution_count": 18,
     "metadata": {},
     "output_type": "execute_result"
    }
   ],
   "source": [
    "a = (sqrt(x + 2) - cbrt(x + 20)) / (real_root((x + 9), 4) - 2)\n",
    "a"
   ]
  },
  {
   "cell_type": "code",
   "execution_count": 19,
   "metadata": {},
   "outputs": [
    {
     "data": {
      "image/png": "[encoded data removed]",
      "text/latex": [
       "$\\displaystyle \\frac{112}{27}$"
      ],
      "text/plain": [
       "112\n",
       "───\n",
       " 27"
      ]
     },
     "execution_count": 19,
     "metadata": {},
     "output_type": "execute_result"
    }
   ],
   "source": [
    "limit(a, x, 7)"
   ]
  },
  {
   "cell_type": "markdown",
   "metadata": {},
   "source": [
    " $$г)\\,\\,\\,\\,\\lim_{x\\to 0} \\frac{3x\\,\\mbox{tg}\\,4x}{1-\\cos4x}$$\n",
    " \n",
    " $$\\lim_{x\\to 0} \\frac{3x\\,\\mbox{tg}\\,4x}{1 - \\cos4x} = \\lim_{x\\to 0} \\frac{3*x * 4*x}{ \\frac{(4x)^2}{2} } = \\lim_{x\\to 0} \\frac{2*12*x^2}{16*x^2} = \\frac{24}{16} = \\frac{3}{2}$$"
   ]
  },
  {
   "cell_type": "code",
   "execution_count": 23,
   "metadata": {},
   "outputs": [
    {
     "data": {
      "image/png": "[encoded data removed]",
      "text/latex": [
       "$\\displaystyle \\frac{3 x \\tan{\\left(4 x \\right)}}{1 - \\cos{\\left(4 x \\right)}}$"
      ],
      "text/plain": [
       "3⋅x⋅tan(4⋅x)\n",
       "────────────\n",
       "1 - cos(4⋅x)"
      ]
     },
     "execution_count": 23,
     "metadata": {},
     "output_type": "execute_result"
    }
   ],
   "source": [
    "a = (3*x * tan(4*x)) / (1 - cos(4*x))\n",
    "a"
   ]
  },
  {
   "cell_type": "code",
   "execution_count": 24,
   "metadata": {},
   "outputs": [
    {
     "data": {
      "image/png": "[encoded data removed]",
      "text/latex": [
       "$\\displaystyle \\frac{3}{2}$"
      ],
      "text/plain": [
       "3/2"
      ]
     },
     "execution_count": 24,
     "metadata": {},
     "output_type": "execute_result"
    }
   ],
   "source": [
    "limit(a, x, 0)"
   ]
  },
  {
   "cell_type": "markdown",
   "metadata": {},
   "source": [
    "$$д^{**})\\,\\,\\,\\,\\lim_{x\\to 0} \\frac{\\sqrt2x^2\\sin4x}{(1-\\cos2x)^{\\frac{3}{2}}}$$\n",
    "\n",
    "$$\\lim_{x\\to 0} \\frac{\\sqrt2x^2\\sin4x}{(1-\\cos2x)^{\\frac{3}{2}}} = \\lim_{x\\to 0} \\frac{\\sqrt2x^2\\sin4x}{\\sqrt{(1-cos2x)^3}} = \\lim_{x\\to 0} \\frac{\\sqrt2x^2\\sin4x}{\\sqrt{(2*x^2)^3}} = \\lim_{x\\to 0} \\frac{\\sqrt2x^2\\sin4x}{2*x^3*\\sqrt2} = \\lim_{x\\to 0} \\frac{\\sin4x}{2*x} = \\lim_{x\\to 0} 2*\\frac{\\sin4x}{4*x} = 2$$"
   ]
  },
  {
   "cell_type": "code",
   "execution_count": 5,
   "metadata": {},
   "outputs": [
    {
     "data": {
      "image/png": "[encoded data removed]",
      "text/latex": [
       "$\\displaystyle \\frac{\\sqrt{2} x^{2} \\sin{\\left(4 x \\right)}}{\\sqrt{\\left(1 - \\cos{\\left(2 x \\right)}\\right)^{3}}}$"
      ],
      "text/plain": [
       "       2            \n",
       "   √2⋅x ⋅sin(4⋅x)   \n",
       "────────────────────\n",
       "   _________________\n",
       "  ╱               3 \n",
       "╲╱  (1 - cos(2⋅x))  "
      ]
     },
     "execution_count": 5,
     "metadata": {},
     "output_type": "execute_result"
    }
   ],
   "source": [
    "a = sqrt(2) * x**2 * sin(4*x) / sqrt((1 - cos(2*x))**3)\n",
    "a"
   ]
  },
  {
   "cell_type": "code",
   "execution_count": 6,
   "metadata": {},
   "outputs": [
    {
     "ename": "NotImplementedError",
     "evalue": "Don't know how to calculate the mrv of 'O(_w**(-3), (_w, oo))'",
     "output_type": "error",
     "traceback": [
      "\u001b[1;31m---------------------------------------------------------------------------\u001b[0m",
      "\u001b[1;31mNotImplementedError\u001b[0m                       Traceback (most recent call last)",
      "\u001b[1;32m<ipython-input-6-55d5121b9351>\u001b[0m in \u001b[0;36m<module>\u001b[1;34m\u001b[0m\n\u001b[1;32m----> 1\u001b[1;33m \u001b[0mlimit\u001b[0m\u001b[1;33m(\u001b[0m\u001b[0ma\u001b[0m\u001b[1;33m,\u001b[0m \u001b[0mx\u001b[0m\u001b[1;33m,\u001b[0m \u001b[1;36m0\u001b[0m\u001b[1;33m)\u001b[0m\u001b[1;33m\u001b[0m\u001b[1;33m\u001b[0m\u001b[0m\n\u001b[0m",
      "\u001b[1;32mC:\\Work\\Anaconda\\lib\\site-packages\\sympy\\series\\limits.py\u001b[0m in \u001b[0;36mlimit\u001b[1;34m(e, z, z0, dir)\u001b[0m\n\u001b[0;32m     80\u001b[0m                     % (llim, rlim))\n\u001b[0;32m     81\u001b[0m     \u001b[1;32melse\u001b[0m\u001b[1;33m:\u001b[0m\u001b[1;33m\u001b[0m\u001b[1;33m\u001b[0m\u001b[0m\n\u001b[1;32m---> 82\u001b[1;33m         \u001b[1;32mreturn\u001b[0m \u001b[0mLimit\u001b[0m\u001b[1;33m(\u001b[0m\u001b[0me\u001b[0m\u001b[1;33m,\u001b[0m \u001b[0mz\u001b[0m\u001b[1;33m,\u001b[0m \u001b[0mz0\u001b[0m\u001b[1;33m,\u001b[0m \u001b[0mdir\u001b[0m\u001b[1;33m)\u001b[0m\u001b[1;33m.\u001b[0m\u001b[0mdoit\u001b[0m\u001b[1;33m(\u001b[0m\u001b[0mdeep\u001b[0m\u001b[1;33m=\u001b[0m\u001b[1;32mFalse\u001b[0m\u001b[1;33m)\u001b[0m\u001b[1;33m\u001b[0m\u001b[1;33m\u001b[0m\u001b[0m\n\u001b[0m\u001b[0;32m     83\u001b[0m \u001b[1;33m\u001b[0m\u001b[0m\n\u001b[0;32m     84\u001b[0m \u001b[1;33m\u001b[0m\u001b[0m\n",
      "\u001b[1;32mC:\\Work\\Anaconda\\lib\\site-packages\\sympy\\series\\limits.py\u001b[0m in \u001b[0;36mdoit\u001b[1;34m(self, **hints)\u001b[0m\n\u001b[0;32m    261\u001b[0m \u001b[1;33m\u001b[0m\u001b[0m\n\u001b[0;32m    262\u001b[0m         \u001b[1;32mtry\u001b[0m\u001b[1;33m:\u001b[0m\u001b[1;33m\u001b[0m\u001b[1;33m\u001b[0m\u001b[0m\n\u001b[1;32m--> 263\u001b[1;33m             \u001b[0mr\u001b[0m \u001b[1;33m=\u001b[0m \u001b[0mgruntz\u001b[0m\u001b[1;33m(\u001b[0m\u001b[0me\u001b[0m\u001b[1;33m,\u001b[0m \u001b[0mz\u001b[0m\u001b[1;33m,\u001b[0m \u001b[0mz0\u001b[0m\u001b[1;33m,\u001b[0m \u001b[0mdir\u001b[0m\u001b[1;33m)\u001b[0m\u001b[1;33m\u001b[0m\u001b[1;33m\u001b[0m\u001b[0m\n\u001b[0m\u001b[0;32m    264\u001b[0m             \u001b[1;32mif\u001b[0m \u001b[0mr\u001b[0m \u001b[1;32mis\u001b[0m \u001b[0mS\u001b[0m\u001b[1;33m.\u001b[0m\u001b[0mNaN\u001b[0m\u001b[1;33m:\u001b[0m\u001b[1;33m\u001b[0m\u001b[1;33m\u001b[0m\u001b[0m\n\u001b[0;32m    265\u001b[0m                 \u001b[1;32mraise\u001b[0m \u001b[0mPoleError\u001b[0m\u001b[1;33m(\u001b[0m\u001b[1;33m)\u001b[0m\u001b[1;33m\u001b[0m\u001b[1;33m\u001b[0m\u001b[0m\n",
      "\u001b[1;32mC:\\Work\\Anaconda\\lib\\site-packages\\sympy\\series\\gruntz.py\u001b[0m in \u001b[0;36mgruntz\u001b[1;34m(e, z, z0, dir)\u001b[0m\n\u001b[0;32m    654\u001b[0m         \u001b[1;32melse\u001b[0m\u001b[1;33m:\u001b[0m\u001b[1;33m\u001b[0m\u001b[1;33m\u001b[0m\u001b[0m\n\u001b[0;32m    655\u001b[0m             \u001b[1;32mraise\u001b[0m \u001b[0mNotImplementedError\u001b[0m\u001b[1;33m(\u001b[0m\u001b[1;34m\"dir must be '+' or '-'\"\u001b[0m\u001b[1;33m)\u001b[0m\u001b[1;33m\u001b[0m\u001b[1;33m\u001b[0m\u001b[0m\n\u001b[1;32m--> 656\u001b[1;33m         \u001b[0mr\u001b[0m \u001b[1;33m=\u001b[0m \u001b[0mlimitinf\u001b[0m\u001b[1;33m(\u001b[0m\u001b[0me0\u001b[0m\u001b[1;33m,\u001b[0m \u001b[0mz\u001b[0m\u001b[1;33m)\u001b[0m\u001b[1;33m\u001b[0m\u001b[1;33m\u001b[0m\u001b[0m\n\u001b[0m\u001b[0;32m    657\u001b[0m \u001b[1;33m\u001b[0m\u001b[0m\n\u001b[0;32m    658\u001b[0m     \u001b[1;31m# This is a bit of a heuristic for nice results... we always rewrite\u001b[0m\u001b[1;33m\u001b[0m\u001b[1;33m\u001b[0m\u001b[1;33m\u001b[0m\u001b[0m\n",
      "\u001b[1;32mC:\\Work\\Anaconda\\lib\\site-packages\\sympy\\series\\gruntz.py\u001b[0m in \u001b[0;36mlimitinf\u001b[1;34m(e, x)\u001b[0m\n\u001b[0;32m    424\u001b[0m         \u001b[0me\u001b[0m \u001b[1;33m=\u001b[0m \u001b[0me\u001b[0m\u001b[1;33m.\u001b[0m\u001b[0msubs\u001b[0m\u001b[1;33m(\u001b[0m\u001b[0mx\u001b[0m\u001b[1;33m,\u001b[0m \u001b[0mp\u001b[0m\u001b[1;33m)\u001b[0m\u001b[1;33m\u001b[0m\u001b[1;33m\u001b[0m\u001b[0m\n\u001b[0;32m    425\u001b[0m         \u001b[0mx\u001b[0m \u001b[1;33m=\u001b[0m \u001b[0mp\u001b[0m\u001b[1;33m\u001b[0m\u001b[1;33m\u001b[0m\u001b[0m\n\u001b[1;32m--> 426\u001b[1;33m     \u001b[0mc0\u001b[0m\u001b[1;33m,\u001b[0m \u001b[0me0\u001b[0m \u001b[1;33m=\u001b[0m \u001b[0mmrv_leadterm\u001b[0m\u001b[1;33m(\u001b[0m\u001b[0me\u001b[0m\u001b[1;33m,\u001b[0m \u001b[0mx\u001b[0m\u001b[1;33m)\u001b[0m\u001b[1;33m\u001b[0m\u001b[1;33m\u001b[0m\u001b[0m\n\u001b[0m\u001b[0;32m    427\u001b[0m     \u001b[0msig\u001b[0m \u001b[1;33m=\u001b[0m \u001b[0msign\u001b[0m\u001b[1;33m(\u001b[0m\u001b[0me0\u001b[0m\u001b[1;33m,\u001b[0m \u001b[0mx\u001b[0m\u001b[1;33m)\u001b[0m\u001b[1;33m\u001b[0m\u001b[1;33m\u001b[0m\u001b[0m\n\u001b[0;32m    428\u001b[0m     \u001b[1;32mif\u001b[0m \u001b[0msig\u001b[0m \u001b[1;33m==\u001b[0m \u001b[1;36m1\u001b[0m\u001b[1;33m:\u001b[0m\u001b[1;33m\u001b[0m\u001b[1;33m\u001b[0m\u001b[0m\n",
      "\u001b[1;32mC:\\Work\\Anaconda\\lib\\site-packages\\sympy\\series\\gruntz.py\u001b[0m in \u001b[0;36mmrv_leadterm\u001b[1;34m(e, x)\u001b[0m\n\u001b[0;32m    509\u001b[0m     \u001b[0mw\u001b[0m \u001b[1;33m=\u001b[0m \u001b[0mDummy\u001b[0m\u001b[1;33m(\u001b[0m\u001b[1;34m\"w\"\u001b[0m\u001b[1;33m,\u001b[0m \u001b[0mreal\u001b[0m\u001b[1;33m=\u001b[0m\u001b[1;32mTrue\u001b[0m\u001b[1;33m,\u001b[0m \u001b[0mpositive\u001b[0m\u001b[1;33m=\u001b[0m\u001b[1;32mTrue\u001b[0m\u001b[1;33m,\u001b[0m \u001b[0mfinite\u001b[0m\u001b[1;33m=\u001b[0m\u001b[1;32mTrue\u001b[0m\u001b[1;33m)\u001b[0m\u001b[1;33m\u001b[0m\u001b[1;33m\u001b[0m\u001b[0m\n\u001b[0;32m    510\u001b[0m     \u001b[0mf\u001b[0m\u001b[1;33m,\u001b[0m \u001b[0mlogw\u001b[0m \u001b[1;33m=\u001b[0m \u001b[0mrewrite\u001b[0m\u001b[1;33m(\u001b[0m\u001b[0mexps\u001b[0m\u001b[1;33m,\u001b[0m \u001b[0mOmega\u001b[0m\u001b[1;33m,\u001b[0m \u001b[0mx\u001b[0m\u001b[1;33m,\u001b[0m \u001b[0mw\u001b[0m\u001b[1;33m)\u001b[0m\u001b[1;33m\u001b[0m\u001b[1;33m\u001b[0m\u001b[0m\n\u001b[1;32m--> 511\u001b[1;33m     \u001b[0mseries\u001b[0m \u001b[1;33m=\u001b[0m \u001b[0mcalculate_series\u001b[0m\u001b[1;33m(\u001b[0m\u001b[0mf\u001b[0m\u001b[1;33m,\u001b[0m \u001b[0mw\u001b[0m\u001b[1;33m,\u001b[0m \u001b[0mlogx\u001b[0m\u001b[1;33m=\u001b[0m\u001b[0mlogw\u001b[0m\u001b[1;33m)\u001b[0m\u001b[1;33m\u001b[0m\u001b[1;33m\u001b[0m\u001b[0m\n\u001b[0m\u001b[0;32m    512\u001b[0m     \u001b[1;32mreturn\u001b[0m \u001b[0mseries\u001b[0m\u001b[1;33m.\u001b[0m\u001b[0mleadterm\u001b[0m\u001b[1;33m(\u001b[0m\u001b[0mw\u001b[0m\u001b[1;33m)\u001b[0m\u001b[1;33m\u001b[0m\u001b[1;33m\u001b[0m\u001b[0m\n\u001b[0;32m    513\u001b[0m \u001b[1;33m\u001b[0m\u001b[0m\n",
      "\u001b[1;32mC:\\Work\\Anaconda\\lib\\site-packages\\sympy\\series\\gruntz.py\u001b[0m in \u001b[0;36mcalculate_series\u001b[1;34m(e, x, logx)\u001b[0m\n\u001b[0;32m    462\u001b[0m     \u001b[1;32mfrom\u001b[0m \u001b[0msympy\u001b[0m\u001b[1;33m.\u001b[0m\u001b[0mpolys\u001b[0m \u001b[1;32mimport\u001b[0m \u001b[0mcancel\u001b[0m\u001b[1;33m\u001b[0m\u001b[1;33m\u001b[0m\u001b[0m\n\u001b[0;32m    463\u001b[0m \u001b[1;33m\u001b[0m\u001b[0m\n\u001b[1;32m--> 464\u001b[1;33m     \u001b[1;32mfor\u001b[0m \u001b[0mt\u001b[0m \u001b[1;32min\u001b[0m \u001b[0me\u001b[0m\u001b[1;33m.\u001b[0m\u001b[0mlseries\u001b[0m\u001b[1;33m(\u001b[0m\u001b[0mx\u001b[0m\u001b[1;33m,\u001b[0m \u001b[0mlogx\u001b[0m\u001b[1;33m=\u001b[0m\u001b[0mlogx\u001b[0m\u001b[1;33m)\u001b[0m\u001b[1;33m:\u001b[0m\u001b[1;33m\u001b[0m\u001b[1;33m\u001b[0m\u001b[0m\n\u001b[0m\u001b[0;32m    465\u001b[0m         \u001b[0mt\u001b[0m \u001b[1;33m=\u001b[0m \u001b[0mcancel\u001b[0m\u001b[1;33m(\u001b[0m\u001b[0mt\u001b[0m\u001b[1;33m)\u001b[0m\u001b[1;33m\u001b[0m\u001b[1;33m\u001b[0m\u001b[0m\n\u001b[0;32m    466\u001b[0m \u001b[1;33m\u001b[0m\u001b[0m\n",
      "\u001b[1;32mC:\\Work\\Anaconda\\lib\\site-packages\\sympy\\core\\expr.py\u001b[0m in \u001b[0;36myield_lseries\u001b[1;34m(s)\u001b[0m\n\u001b[0;32m   2782\u001b[0m             \u001b[1;32mdef\u001b[0m \u001b[0myield_lseries\u001b[0m\u001b[1;33m(\u001b[0m\u001b[0ms\u001b[0m\u001b[1;33m)\u001b[0m\u001b[1;33m:\u001b[0m\u001b[1;33m\u001b[0m\u001b[1;33m\u001b[0m\u001b[0m\n\u001b[0;32m   2783\u001b[0m                 \u001b[1;34m\"\"\"Return terms of lseries one at a time.\"\"\"\u001b[0m\u001b[1;33m\u001b[0m\u001b[1;33m\u001b[0m\u001b[0m\n\u001b[1;32m-> 2784\u001b[1;33m                 \u001b[1;32mfor\u001b[0m \u001b[0msi\u001b[0m \u001b[1;32min\u001b[0m \u001b[0ms\u001b[0m\u001b[1;33m:\u001b[0m\u001b[1;33m\u001b[0m\u001b[1;33m\u001b[0m\u001b[0m\n\u001b[0m\u001b[0;32m   2785\u001b[0m                     \u001b[1;32mif\u001b[0m \u001b[1;32mnot\u001b[0m \u001b[0msi\u001b[0m\u001b[1;33m.\u001b[0m\u001b[0mis_Add\u001b[0m\u001b[1;33m:\u001b[0m\u001b[1;33m\u001b[0m\u001b[1;33m\u001b[0m\u001b[0m\n\u001b[0;32m   2786\u001b[0m                         \u001b[1;32myield\u001b[0m \u001b[0msi\u001b[0m\u001b[1;33m\u001b[0m\u001b[1;33m\u001b[0m\u001b[0m\n",
      "\u001b[1;32mC:\\Work\\Anaconda\\lib\\site-packages\\sympy\\core\\expr.py\u001b[0m in \u001b[0;36m_eval_lseries\u001b[1;34m(self, x, logx)\u001b[0m\n\u001b[0;32m   2857\u001b[0m         \u001b[1;32mwhile\u001b[0m \u001b[0mseries\u001b[0m\u001b[1;33m.\u001b[0m\u001b[0mis_Order\u001b[0m\u001b[1;33m:\u001b[0m\u001b[1;33m\u001b[0m\u001b[1;33m\u001b[0m\u001b[0m\n\u001b[0;32m   2858\u001b[0m             \u001b[0mn\u001b[0m \u001b[1;33m+=\u001b[0m \u001b[1;36m1\u001b[0m\u001b[1;33m\u001b[0m\u001b[1;33m\u001b[0m\u001b[0m\n\u001b[1;32m-> 2859\u001b[1;33m             \u001b[0mseries\u001b[0m \u001b[1;33m=\u001b[0m \u001b[0mself\u001b[0m\u001b[1;33m.\u001b[0m\u001b[0m_eval_nseries\u001b[0m\u001b[1;33m(\u001b[0m\u001b[0mx\u001b[0m\u001b[1;33m,\u001b[0m \u001b[0mn\u001b[0m\u001b[1;33m=\u001b[0m\u001b[0mn\u001b[0m\u001b[1;33m,\u001b[0m \u001b[0mlogx\u001b[0m\u001b[1;33m=\u001b[0m\u001b[0mlogx\u001b[0m\u001b[1;33m)\u001b[0m\u001b[1;33m\u001b[0m\u001b[1;33m\u001b[0m\u001b[0m\n\u001b[0m\u001b[0;32m   2860\u001b[0m         \u001b[0me\u001b[0m \u001b[1;33m=\u001b[0m \u001b[0mseries\u001b[0m\u001b[1;33m.\u001b[0m\u001b[0mremoveO\u001b[0m\u001b[1;33m(\u001b[0m\u001b[1;33m)\u001b[0m\u001b[1;33m\u001b[0m\u001b[1;33m\u001b[0m\u001b[0m\n\u001b[0;32m   2861\u001b[0m         \u001b[1;32myield\u001b[0m \u001b[0me\u001b[0m\u001b[1;33m\u001b[0m\u001b[1;33m\u001b[0m\u001b[0m\n",
      "\u001b[1;32mC:\\Work\\Anaconda\\lib\\site-packages\\sympy\\core\\mul.py\u001b[0m in \u001b[0;36m_eval_nseries\u001b[1;34m(self, x, n, logx)\u001b[0m\n\u001b[0;32m   1638\u001b[0m         \u001b[0mres\u001b[0m \u001b[1;33m=\u001b[0m \u001b[0mpowsimp\u001b[0m\u001b[1;33m(\u001b[0m\u001b[0mself\u001b[0m\u001b[1;33m.\u001b[0m\u001b[0mfunc\u001b[0m\u001b[1;33m(\u001b[0m\u001b[1;33m*\u001b[0m\u001b[0mterms\u001b[0m\u001b[1;33m)\u001b[0m\u001b[1;33m.\u001b[0m\u001b[0mexpand\u001b[0m\u001b[1;33m(\u001b[0m\u001b[1;33m)\u001b[0m\u001b[1;33m,\u001b[0m \u001b[0mcombine\u001b[0m\u001b[1;33m=\u001b[0m\u001b[1;34m'exp'\u001b[0m\u001b[1;33m,\u001b[0m \u001b[0mdeep\u001b[0m\u001b[1;33m=\u001b[0m\u001b[1;32mTrue\u001b[0m\u001b[1;33m)\u001b[0m\u001b[1;33m\u001b[0m\u001b[1;33m\u001b[0m\u001b[0m\n\u001b[0;32m   1639\u001b[0m         \u001b[1;32mif\u001b[0m \u001b[0mres\u001b[0m\u001b[1;33m.\u001b[0m\u001b[0mhas\u001b[0m\u001b[1;33m(\u001b[0m\u001b[0mOrder\u001b[0m\u001b[1;33m)\u001b[0m\u001b[1;33m:\u001b[0m\u001b[1;33m\u001b[0m\u001b[1;33m\u001b[0m\u001b[0m\n\u001b[1;32m-> 1640\u001b[1;33m             \u001b[0mres\u001b[0m \u001b[1;33m+=\u001b[0m \u001b[0mOrder\u001b[0m\u001b[1;33m(\u001b[0m\u001b[0mx\u001b[0m\u001b[1;33m**\u001b[0m\u001b[0mn\u001b[0m\u001b[1;33m,\u001b[0m \u001b[0mx\u001b[0m\u001b[1;33m)\u001b[0m\u001b[1;33m\u001b[0m\u001b[1;33m\u001b[0m\u001b[0m\n\u001b[0m\u001b[0;32m   1641\u001b[0m         \u001b[1;32mreturn\u001b[0m \u001b[0mres\u001b[0m\u001b[1;33m\u001b[0m\u001b[1;33m\u001b[0m\u001b[0m\n\u001b[0;32m   1642\u001b[0m \u001b[1;33m\u001b[0m\u001b[0m\n",
      "\u001b[1;32mC:\\Work\\Anaconda\\lib\\site-packages\\sympy\\core\\decorators.py\u001b[0m in \u001b[0;36m__sympifyit_wrapper\u001b[1;34m(a, b)\u001b[0m\n\u001b[0;32m     89\u001b[0m                 \u001b[1;32mif\u001b[0m \u001b[1;32mnot\u001b[0m \u001b[0mhasattr\u001b[0m\u001b[1;33m(\u001b[0m\u001b[0mb\u001b[0m\u001b[1;33m,\u001b[0m \u001b[1;34m'_op_priority'\u001b[0m\u001b[1;33m)\u001b[0m\u001b[1;33m:\u001b[0m\u001b[1;33m\u001b[0m\u001b[1;33m\u001b[0m\u001b[0m\n\u001b[0;32m     90\u001b[0m                     \u001b[0mb\u001b[0m \u001b[1;33m=\u001b[0m \u001b[0msympify\u001b[0m\u001b[1;33m(\u001b[0m\u001b[0mb\u001b[0m\u001b[1;33m,\u001b[0m \u001b[0mstrict\u001b[0m\u001b[1;33m=\u001b[0m\u001b[1;32mTrue\u001b[0m\u001b[1;33m)\u001b[0m\u001b[1;33m\u001b[0m\u001b[1;33m\u001b[0m\u001b[0m\n\u001b[1;32m---> 91\u001b[1;33m                 \u001b[1;32mreturn\u001b[0m \u001b[0mfunc\u001b[0m\u001b[1;33m(\u001b[0m\u001b[0ma\u001b[0m\u001b[1;33m,\u001b[0m \u001b[0mb\u001b[0m\u001b[1;33m)\u001b[0m\u001b[1;33m\u001b[0m\u001b[1;33m\u001b[0m\u001b[0m\n\u001b[0m\u001b[0;32m     92\u001b[0m             \u001b[1;32mexcept\u001b[0m \u001b[0mSympifyError\u001b[0m\u001b[1;33m:\u001b[0m\u001b[1;33m\u001b[0m\u001b[1;33m\u001b[0m\u001b[0m\n\u001b[0;32m     93\u001b[0m                 \u001b[1;32mreturn\u001b[0m \u001b[0mretval\u001b[0m\u001b[1;33m\u001b[0m\u001b[1;33m\u001b[0m\u001b[0m\n",
      "\u001b[1;32mC:\\Work\\Anaconda\\lib\\site-packages\\sympy\\core\\decorators.py\u001b[0m in \u001b[0;36mbinary_op_wrapper\u001b[1;34m(self, other)\u001b[0m\n\u001b[0;32m    127\u001b[0m                     \u001b[1;32mif\u001b[0m \u001b[0mf\u001b[0m \u001b[1;32mis\u001b[0m \u001b[1;32mnot\u001b[0m \u001b[1;32mNone\u001b[0m\u001b[1;33m:\u001b[0m\u001b[1;33m\u001b[0m\u001b[1;33m\u001b[0m\u001b[0m\n\u001b[0;32m    128\u001b[0m                         \u001b[1;32mreturn\u001b[0m \u001b[0mf\u001b[0m\u001b[1;33m(\u001b[0m\u001b[0mself\u001b[0m\u001b[1;33m)\u001b[0m\u001b[1;33m\u001b[0m\u001b[1;33m\u001b[0m\u001b[0m\n\u001b[1;32m--> 129\u001b[1;33m             \u001b[1;32mreturn\u001b[0m \u001b[0mfunc\u001b[0m\u001b[1;33m(\u001b[0m\u001b[0mself\u001b[0m\u001b[1;33m,\u001b[0m \u001b[0mother\u001b[0m\u001b[1;33m)\u001b[0m\u001b[1;33m\u001b[0m\u001b[1;33m\u001b[0m\u001b[0m\n\u001b[0m\u001b[0;32m    130\u001b[0m         \u001b[1;32mreturn\u001b[0m \u001b[0mbinary_op_wrapper\u001b[0m\u001b[1;33m\u001b[0m\u001b[1;33m\u001b[0m\u001b[0m\n\u001b[0;32m    131\u001b[0m     \u001b[1;32mreturn\u001b[0m \u001b[0mpriority_decorator\u001b[0m\u001b[1;33m\u001b[0m\u001b[1;33m\u001b[0m\u001b[0m\n",
      "\u001b[1;32mC:\\Work\\Anaconda\\lib\\site-packages\\sympy\\core\\expr.py\u001b[0m in \u001b[0;36m__add__\u001b[1;34m(self, other)\u001b[0m\n\u001b[0;32m    129\u001b[0m     \u001b[1;33m@\u001b[0m\u001b[0mcall_highest_priority\u001b[0m\u001b[1;33m(\u001b[0m\u001b[1;34m'__radd__'\u001b[0m\u001b[1;33m)\u001b[0m\u001b[1;33m\u001b[0m\u001b[1;33m\u001b[0m\u001b[0m\n\u001b[0;32m    130\u001b[0m     \u001b[1;32mdef\u001b[0m \u001b[0m__add__\u001b[0m\u001b[1;33m(\u001b[0m\u001b[0mself\u001b[0m\u001b[1;33m,\u001b[0m \u001b[0mother\u001b[0m\u001b[1;33m)\u001b[0m\u001b[1;33m:\u001b[0m\u001b[1;33m\u001b[0m\u001b[1;33m\u001b[0m\u001b[0m\n\u001b[1;32m--> 131\u001b[1;33m         \u001b[1;32mreturn\u001b[0m \u001b[0mAdd\u001b[0m\u001b[1;33m(\u001b[0m\u001b[0mself\u001b[0m\u001b[1;33m,\u001b[0m \u001b[0mother\u001b[0m\u001b[1;33m)\u001b[0m\u001b[1;33m\u001b[0m\u001b[1;33m\u001b[0m\u001b[0m\n\u001b[0m\u001b[0;32m    132\u001b[0m \u001b[1;33m\u001b[0m\u001b[0m\n\u001b[0;32m    133\u001b[0m     \u001b[1;33m@\u001b[0m\u001b[0m_sympifyit\u001b[0m\u001b[1;33m(\u001b[0m\u001b[1;34m'other'\u001b[0m\u001b[1;33m,\u001b[0m \u001b[0mNotImplemented\u001b[0m\u001b[1;33m)\u001b[0m\u001b[1;33m\u001b[0m\u001b[1;33m\u001b[0m\u001b[0m\n",
      "\u001b[1;32mC:\\Work\\Anaconda\\lib\\site-packages\\sympy\\core\\operations.py\u001b[0m in \u001b[0;36m__new__\u001b[1;34m(cls, *args, **options)\u001b[0m\n\u001b[0;32m     45\u001b[0m             \u001b[1;32mreturn\u001b[0m \u001b[0margs\u001b[0m\u001b[1;33m[\u001b[0m\u001b[1;36m0\u001b[0m\u001b[1;33m]\u001b[0m\u001b[1;33m\u001b[0m\u001b[1;33m\u001b[0m\u001b[0m\n\u001b[0;32m     46\u001b[0m \u001b[1;33m\u001b[0m\u001b[0m\n\u001b[1;32m---> 47\u001b[1;33m         \u001b[0mc_part\u001b[0m\u001b[1;33m,\u001b[0m \u001b[0mnc_part\u001b[0m\u001b[1;33m,\u001b[0m \u001b[0morder_symbols\u001b[0m \u001b[1;33m=\u001b[0m \u001b[0mcls\u001b[0m\u001b[1;33m.\u001b[0m\u001b[0mflatten\u001b[0m\u001b[1;33m(\u001b[0m\u001b[0margs\u001b[0m\u001b[1;33m)\u001b[0m\u001b[1;33m\u001b[0m\u001b[1;33m\u001b[0m\u001b[0m\n\u001b[0m\u001b[0;32m     48\u001b[0m         \u001b[0mis_commutative\u001b[0m \u001b[1;33m=\u001b[0m \u001b[1;32mnot\u001b[0m \u001b[0mnc_part\u001b[0m\u001b[1;33m\u001b[0m\u001b[1;33m\u001b[0m\u001b[0m\n\u001b[0;32m     49\u001b[0m         \u001b[0mobj\u001b[0m \u001b[1;33m=\u001b[0m \u001b[0mcls\u001b[0m\u001b[1;33m.\u001b[0m\u001b[0m_from_args\u001b[0m\u001b[1;33m(\u001b[0m\u001b[0mc_part\u001b[0m \u001b[1;33m+\u001b[0m \u001b[0mnc_part\u001b[0m\u001b[1;33m,\u001b[0m \u001b[0mis_commutative\u001b[0m\u001b[1;33m)\u001b[0m\u001b[1;33m\u001b[0m\u001b[1;33m\u001b[0m\u001b[0m\n",
      "\u001b[1;32mC:\\Work\\Anaconda\\lib\\site-packages\\sympy\\core\\add.py\u001b[0m in \u001b[0;36mflatten\u001b[1;34m(cls, seq)\u001b[0m\n\u001b[0;32m    124\u001b[0m             \u001b[1;32mif\u001b[0m \u001b[0mo\u001b[0m\u001b[1;33m.\u001b[0m\u001b[0mis_Order\u001b[0m\u001b[1;33m:\u001b[0m\u001b[1;33m\u001b[0m\u001b[1;33m\u001b[0m\u001b[0m\n\u001b[0;32m    125\u001b[0m                 \u001b[1;32mfor\u001b[0m \u001b[0mo1\u001b[0m \u001b[1;32min\u001b[0m \u001b[0morder_factors\u001b[0m\u001b[1;33m:\u001b[0m\u001b[1;33m\u001b[0m\u001b[1;33m\u001b[0m\u001b[0m\n\u001b[1;32m--> 126\u001b[1;33m                     \u001b[1;32mif\u001b[0m \u001b[0mo1\u001b[0m\u001b[1;33m.\u001b[0m\u001b[0mcontains\u001b[0m\u001b[1;33m(\u001b[0m\u001b[0mo\u001b[0m\u001b[1;33m)\u001b[0m\u001b[1;33m:\u001b[0m\u001b[1;33m\u001b[0m\u001b[1;33m\u001b[0m\u001b[0m\n\u001b[0m\u001b[0;32m    127\u001b[0m                         \u001b[0mo\u001b[0m \u001b[1;33m=\u001b[0m \u001b[1;32mNone\u001b[0m\u001b[1;33m\u001b[0m\u001b[1;33m\u001b[0m\u001b[0m\n\u001b[0;32m    128\u001b[0m                         \u001b[1;32mbreak\u001b[0m\u001b[1;33m\u001b[0m\u001b[1;33m\u001b[0m\u001b[0m\n",
      "\u001b[1;32mC:\\Work\\Anaconda\\lib\\site-packages\\sympy\\series\\order.py\u001b[0m in \u001b[0;36mcontains\u001b[1;34m(self, expr)\u001b[0m\n\u001b[0;32m    381\u001b[0m             \u001b[1;32mfor\u001b[0m \u001b[0ms\u001b[0m \u001b[1;32min\u001b[0m \u001b[0mcommon_symbols\u001b[0m\u001b[1;33m:\u001b[0m\u001b[1;33m\u001b[0m\u001b[1;33m\u001b[0m\u001b[0m\n\u001b[0;32m    382\u001b[0m                 \u001b[1;32mfrom\u001b[0m \u001b[0msympy\u001b[0m\u001b[1;33m.\u001b[0m\u001b[0mseries\u001b[0m\u001b[1;33m.\u001b[0m\u001b[0mlimits\u001b[0m \u001b[1;32mimport\u001b[0m \u001b[0mLimit\u001b[0m\u001b[1;33m\u001b[0m\u001b[1;33m\u001b[0m\u001b[0m\n\u001b[1;32m--> 383\u001b[1;33m                 \u001b[0ml\u001b[0m \u001b[1;33m=\u001b[0m \u001b[0mLimit\u001b[0m\u001b[1;33m(\u001b[0m\u001b[0mratio\u001b[0m\u001b[1;33m,\u001b[0m \u001b[0ms\u001b[0m\u001b[1;33m,\u001b[0m \u001b[0mpoint\u001b[0m\u001b[1;33m)\u001b[0m\u001b[1;33m.\u001b[0m\u001b[0mdoit\u001b[0m\u001b[1;33m(\u001b[0m\u001b[0mheuristics\u001b[0m\u001b[1;33m=\u001b[0m\u001b[1;32mFalse\u001b[0m\u001b[1;33m)\u001b[0m\u001b[1;33m\u001b[0m\u001b[1;33m\u001b[0m\u001b[0m\n\u001b[0m\u001b[0;32m    384\u001b[0m                 \u001b[1;32mif\u001b[0m \u001b[1;32mnot\u001b[0m \u001b[0misinstance\u001b[0m\u001b[1;33m(\u001b[0m\u001b[0ml\u001b[0m\u001b[1;33m,\u001b[0m \u001b[0mLimit\u001b[0m\u001b[1;33m)\u001b[0m\u001b[1;33m:\u001b[0m\u001b[1;33m\u001b[0m\u001b[1;33m\u001b[0m\u001b[0m\n\u001b[0;32m    385\u001b[0m                     \u001b[0ml\u001b[0m \u001b[1;33m=\u001b[0m \u001b[0ml\u001b[0m \u001b[1;33m!=\u001b[0m \u001b[1;36m0\u001b[0m\u001b[1;33m\u001b[0m\u001b[1;33m\u001b[0m\u001b[0m\n",
      "\u001b[1;32mC:\\Work\\Anaconda\\lib\\site-packages\\sympy\\series\\limits.py\u001b[0m in \u001b[0;36mdoit\u001b[1;34m(self, **hints)\u001b[0m\n\u001b[0;32m    261\u001b[0m \u001b[1;33m\u001b[0m\u001b[0m\n\u001b[0;32m    262\u001b[0m         \u001b[1;32mtry\u001b[0m\u001b[1;33m:\u001b[0m\u001b[1;33m\u001b[0m\u001b[1;33m\u001b[0m\u001b[0m\n\u001b[1;32m--> 263\u001b[1;33m             \u001b[0mr\u001b[0m \u001b[1;33m=\u001b[0m \u001b[0mgruntz\u001b[0m\u001b[1;33m(\u001b[0m\u001b[0me\u001b[0m\u001b[1;33m,\u001b[0m \u001b[0mz\u001b[0m\u001b[1;33m,\u001b[0m \u001b[0mz0\u001b[0m\u001b[1;33m,\u001b[0m \u001b[0mdir\u001b[0m\u001b[1;33m)\u001b[0m\u001b[1;33m\u001b[0m\u001b[1;33m\u001b[0m\u001b[0m\n\u001b[0m\u001b[0;32m    264\u001b[0m             \u001b[1;32mif\u001b[0m \u001b[0mr\u001b[0m \u001b[1;32mis\u001b[0m \u001b[0mS\u001b[0m\u001b[1;33m.\u001b[0m\u001b[0mNaN\u001b[0m\u001b[1;33m:\u001b[0m\u001b[1;33m\u001b[0m\u001b[1;33m\u001b[0m\u001b[0m\n\u001b[0;32m    265\u001b[0m                 \u001b[1;32mraise\u001b[0m \u001b[0mPoleError\u001b[0m\u001b[1;33m(\u001b[0m\u001b[1;33m)\u001b[0m\u001b[1;33m\u001b[0m\u001b[1;33m\u001b[0m\u001b[0m\n",
      "\u001b[1;32mC:\\Work\\Anaconda\\lib\\site-packages\\sympy\\series\\gruntz.py\u001b[0m in \u001b[0;36mgruntz\u001b[1;34m(e, z, z0, dir)\u001b[0m\n\u001b[0;32m    654\u001b[0m         \u001b[1;32melse\u001b[0m\u001b[1;33m:\u001b[0m\u001b[1;33m\u001b[0m\u001b[1;33m\u001b[0m\u001b[0m\n\u001b[0;32m    655\u001b[0m             \u001b[1;32mraise\u001b[0m \u001b[0mNotImplementedError\u001b[0m\u001b[1;33m(\u001b[0m\u001b[1;34m\"dir must be '+' or '-'\"\u001b[0m\u001b[1;33m)\u001b[0m\u001b[1;33m\u001b[0m\u001b[1;33m\u001b[0m\u001b[0m\n\u001b[1;32m--> 656\u001b[1;33m         \u001b[0mr\u001b[0m \u001b[1;33m=\u001b[0m \u001b[0mlimitinf\u001b[0m\u001b[1;33m(\u001b[0m\u001b[0me0\u001b[0m\u001b[1;33m,\u001b[0m \u001b[0mz\u001b[0m\u001b[1;33m)\u001b[0m\u001b[1;33m\u001b[0m\u001b[1;33m\u001b[0m\u001b[0m\n\u001b[0m\u001b[0;32m    657\u001b[0m \u001b[1;33m\u001b[0m\u001b[0m\n\u001b[0;32m    658\u001b[0m     \u001b[1;31m# This is a bit of a heuristic for nice results... we always rewrite\u001b[0m\u001b[1;33m\u001b[0m\u001b[1;33m\u001b[0m\u001b[1;33m\u001b[0m\u001b[0m\n",
      "\u001b[1;32mC:\\Work\\Anaconda\\lib\\site-packages\\sympy\\series\\gruntz.py\u001b[0m in \u001b[0;36mlimitinf\u001b[1;34m(e, x)\u001b[0m\n\u001b[0;32m    424\u001b[0m         \u001b[0me\u001b[0m \u001b[1;33m=\u001b[0m \u001b[0me\u001b[0m\u001b[1;33m.\u001b[0m\u001b[0msubs\u001b[0m\u001b[1;33m(\u001b[0m\u001b[0mx\u001b[0m\u001b[1;33m,\u001b[0m \u001b[0mp\u001b[0m\u001b[1;33m)\u001b[0m\u001b[1;33m\u001b[0m\u001b[1;33m\u001b[0m\u001b[0m\n\u001b[0;32m    425\u001b[0m         \u001b[0mx\u001b[0m \u001b[1;33m=\u001b[0m \u001b[0mp\u001b[0m\u001b[1;33m\u001b[0m\u001b[1;33m\u001b[0m\u001b[0m\n\u001b[1;32m--> 426\u001b[1;33m     \u001b[0mc0\u001b[0m\u001b[1;33m,\u001b[0m \u001b[0me0\u001b[0m \u001b[1;33m=\u001b[0m \u001b[0mmrv_leadterm\u001b[0m\u001b[1;33m(\u001b[0m\u001b[0me\u001b[0m\u001b[1;33m,\u001b[0m \u001b[0mx\u001b[0m\u001b[1;33m)\u001b[0m\u001b[1;33m\u001b[0m\u001b[1;33m\u001b[0m\u001b[0m\n\u001b[0m\u001b[0;32m    427\u001b[0m     \u001b[0msig\u001b[0m \u001b[1;33m=\u001b[0m \u001b[0msign\u001b[0m\u001b[1;33m(\u001b[0m\u001b[0me0\u001b[0m\u001b[1;33m,\u001b[0m \u001b[0mx\u001b[0m\u001b[1;33m)\u001b[0m\u001b[1;33m\u001b[0m\u001b[1;33m\u001b[0m\u001b[0m\n\u001b[0;32m    428\u001b[0m     \u001b[1;32mif\u001b[0m \u001b[0msig\u001b[0m \u001b[1;33m==\u001b[0m \u001b[1;36m1\u001b[0m\u001b[1;33m:\u001b[0m\u001b[1;33m\u001b[0m\u001b[1;33m\u001b[0m\u001b[0m\n",
      "\u001b[1;32mC:\\Work\\Anaconda\\lib\\site-packages\\sympy\\series\\gruntz.py\u001b[0m in \u001b[0;36mmrv_leadterm\u001b[1;34m(e, x)\u001b[0m\n\u001b[0;32m    483\u001b[0m         \u001b[1;32mreturn\u001b[0m \u001b[1;33m(\u001b[0m\u001b[0me\u001b[0m\u001b[1;33m,\u001b[0m \u001b[0mS\u001b[0m\u001b[1;33m.\u001b[0m\u001b[0mZero\u001b[0m\u001b[1;33m)\u001b[0m\u001b[1;33m\u001b[0m\u001b[1;33m\u001b[0m\u001b[0m\n\u001b[0;32m    484\u001b[0m     \u001b[1;32mif\u001b[0m \u001b[0mOmega\u001b[0m \u001b[1;33m==\u001b[0m \u001b[0mSubsSet\u001b[0m\u001b[1;33m(\u001b[0m\u001b[1;33m)\u001b[0m\u001b[1;33m:\u001b[0m\u001b[1;33m\u001b[0m\u001b[1;33m\u001b[0m\u001b[0m\n\u001b[1;32m--> 485\u001b[1;33m         \u001b[0mOmega\u001b[0m\u001b[1;33m,\u001b[0m \u001b[0mexps\u001b[0m \u001b[1;33m=\u001b[0m \u001b[0mmrv\u001b[0m\u001b[1;33m(\u001b[0m\u001b[0me\u001b[0m\u001b[1;33m,\u001b[0m \u001b[0mx\u001b[0m\u001b[1;33m)\u001b[0m\u001b[1;33m\u001b[0m\u001b[1;33m\u001b[0m\u001b[0m\n\u001b[0m\u001b[0;32m    486\u001b[0m     \u001b[1;32mif\u001b[0m \u001b[1;32mnot\u001b[0m \u001b[0mOmega\u001b[0m\u001b[1;33m:\u001b[0m\u001b[1;33m\u001b[0m\u001b[1;33m\u001b[0m\u001b[0m\n\u001b[0;32m    487\u001b[0m         \u001b[1;31m# e really does not depend on x after simplification\u001b[0m\u001b[1;33m\u001b[0m\u001b[1;33m\u001b[0m\u001b[1;33m\u001b[0m\u001b[0m\n",
      "\u001b[1;32mC:\\Work\\Anaconda\\lib\\site-packages\\sympy\\series\\gruntz.py\u001b[0m in \u001b[0;36mmrv\u001b[1;34m(e, x)\u001b[0m\n\u001b[0;32m    257\u001b[0m         \u001b[0ma\u001b[0m\u001b[1;33m,\u001b[0m \u001b[0mb\u001b[0m \u001b[1;33m=\u001b[0m \u001b[0md\u001b[0m\u001b[1;33m.\u001b[0m\u001b[0mas_two_terms\u001b[0m\u001b[1;33m(\u001b[0m\u001b[1;33m)\u001b[0m\u001b[1;33m\u001b[0m\u001b[1;33m\u001b[0m\u001b[0m\n\u001b[0;32m    258\u001b[0m         \u001b[0ms1\u001b[0m\u001b[1;33m,\u001b[0m \u001b[0me1\u001b[0m \u001b[1;33m=\u001b[0m \u001b[0mmrv\u001b[0m\u001b[1;33m(\u001b[0m\u001b[0ma\u001b[0m\u001b[1;33m,\u001b[0m \u001b[0mx\u001b[0m\u001b[1;33m)\u001b[0m\u001b[1;33m\u001b[0m\u001b[1;33m\u001b[0m\u001b[0m\n\u001b[1;32m--> 259\u001b[1;33m         \u001b[0ms2\u001b[0m\u001b[1;33m,\u001b[0m \u001b[0me2\u001b[0m \u001b[1;33m=\u001b[0m \u001b[0mmrv\u001b[0m\u001b[1;33m(\u001b[0m\u001b[0mb\u001b[0m\u001b[1;33m,\u001b[0m \u001b[0mx\u001b[0m\u001b[1;33m)\u001b[0m\u001b[1;33m\u001b[0m\u001b[1;33m\u001b[0m\u001b[0m\n\u001b[0m\u001b[0;32m    260\u001b[0m         \u001b[1;32mreturn\u001b[0m \u001b[0mmrv_max1\u001b[0m\u001b[1;33m(\u001b[0m\u001b[0ms1\u001b[0m\u001b[1;33m,\u001b[0m \u001b[0ms2\u001b[0m\u001b[1;33m,\u001b[0m \u001b[0me\u001b[0m\u001b[1;33m.\u001b[0m\u001b[0mfunc\u001b[0m\u001b[1;33m(\u001b[0m\u001b[0mi\u001b[0m\u001b[1;33m,\u001b[0m \u001b[0me1\u001b[0m\u001b[1;33m,\u001b[0m \u001b[0me2\u001b[0m\u001b[1;33m)\u001b[0m\u001b[1;33m,\u001b[0m \u001b[0mx\u001b[0m\u001b[1;33m)\u001b[0m\u001b[1;33m\u001b[0m\u001b[1;33m\u001b[0m\u001b[0m\n\u001b[0;32m    261\u001b[0m     \u001b[1;32melif\u001b[0m \u001b[0me\u001b[0m\u001b[1;33m.\u001b[0m\u001b[0mis_Pow\u001b[0m\u001b[1;33m:\u001b[0m\u001b[1;33m\u001b[0m\u001b[1;33m\u001b[0m\u001b[0m\n",
      "\u001b[1;32mC:\\Work\\Anaconda\\lib\\site-packages\\sympy\\series\\gruntz.py\u001b[0m in \u001b[0;36mmrv\u001b[1;34m(e, x)\u001b[0m\n\u001b[0;32m    266\u001b[0m             \u001b[1;32mreturn\u001b[0m \u001b[0mmrv\u001b[0m\u001b[1;33m(\u001b[0m\u001b[0mexp\u001b[0m\u001b[1;33m(\u001b[0m\u001b[0me\u001b[0m \u001b[1;33m*\u001b[0m \u001b[0mlog\u001b[0m\u001b[1;33m(\u001b[0m\u001b[0mb\u001b[0m\u001b[1;33m)\u001b[0m\u001b[1;33m)\u001b[0m\u001b[1;33m,\u001b[0m \u001b[0mx\u001b[0m\u001b[1;33m)\u001b[0m\u001b[1;33m\u001b[0m\u001b[1;33m\u001b[0m\u001b[0m\n\u001b[0;32m    267\u001b[0m         \u001b[1;32melse\u001b[0m\u001b[1;33m:\u001b[0m\u001b[1;33m\u001b[0m\u001b[1;33m\u001b[0m\u001b[0m\n\u001b[1;32m--> 268\u001b[1;33m             \u001b[0ms\u001b[0m\u001b[1;33m,\u001b[0m \u001b[0mexpr\u001b[0m \u001b[1;33m=\u001b[0m \u001b[0mmrv\u001b[0m\u001b[1;33m(\u001b[0m\u001b[0mb\u001b[0m\u001b[1;33m,\u001b[0m \u001b[0mx\u001b[0m\u001b[1;33m)\u001b[0m\u001b[1;33m\u001b[0m\u001b[1;33m\u001b[0m\u001b[0m\n\u001b[0m\u001b[0;32m    269\u001b[0m             \u001b[1;32mreturn\u001b[0m \u001b[0ms\u001b[0m\u001b[1;33m,\u001b[0m \u001b[0mexpr\u001b[0m\u001b[1;33m**\u001b[0m\u001b[0me\u001b[0m\u001b[1;33m\u001b[0m\u001b[1;33m\u001b[0m\u001b[0m\n\u001b[0;32m    270\u001b[0m     \u001b[1;32melif\u001b[0m \u001b[0misinstance\u001b[0m\u001b[1;33m(\u001b[0m\u001b[0me\u001b[0m\u001b[1;33m,\u001b[0m \u001b[0mlog\u001b[0m\u001b[1;33m)\u001b[0m\u001b[1;33m:\u001b[0m\u001b[1;33m\u001b[0m\u001b[1;33m\u001b[0m\u001b[0m\n",
      "\u001b[1;32mC:\\Work\\Anaconda\\lib\\site-packages\\sympy\\series\\gruntz.py\u001b[0m in \u001b[0;36mmrv\u001b[1;34m(e, x)\u001b[0m\n\u001b[0;32m    305\u001b[0m         \u001b[1;32mreturn\u001b[0m \u001b[0mmrv\u001b[0m\u001b[1;33m(\u001b[0m\u001b[0me\u001b[0m\u001b[1;33m.\u001b[0m\u001b[0margs\u001b[0m\u001b[1;33m[\u001b[0m\u001b[1;36m0\u001b[0m\u001b[1;33m]\u001b[0m\u001b[1;33m,\u001b[0m \u001b[0mx\u001b[0m\u001b[1;33m)\u001b[0m\u001b[1;33m\u001b[0m\u001b[1;33m\u001b[0m\u001b[0m\n\u001b[0;32m    306\u001b[0m     raise NotImplementedError(\n\u001b[1;32m--> 307\u001b[1;33m         \"Don't know how to calculate the mrv of '%s'\" % e)\n\u001b[0m\u001b[0;32m    308\u001b[0m \u001b[1;33m\u001b[0m\u001b[0m\n\u001b[0;32m    309\u001b[0m \u001b[1;33m\u001b[0m\u001b[0m\n",
      "\u001b[1;31mNotImplementedError\u001b[0m: Don't know how to calculate the mrv of 'O(_w**(-3), (_w, oo))'"
     ]
    }
   ],
   "source": [
    "limit(a, x, 0)"
   ]
  },
  {
   "cell_type": "markdown",
   "metadata": {},
   "source": [
    "$$е)\\,\\,\\,\\,\\lim_{x\\to \\infty} \\Bigr(\\frac{4x}{4x+3}\\Bigl)^\\frac{5x^2}{7x-1}$$\n",
    "\n",
    "$$\\lim_{x\\to \\infty} \\Bigr(\\frac{4x}{4x + 3}\\Bigl)^\\frac{5x^2}{7x - 1} = (1)^{+\\infty} = \\lim_{x\\to \\infty} e^{\\Bigr(\\frac{4x}{4x + 3} - 1\\Bigl) * \\frac{5x^2}{7x - 1}} = \\lim_{x\\to \\infty} e^{\\frac{-3}{4x + 3} * \\frac{5x^2}{7x - 1}} = e^{\\frac{-15}{4*7}} = e^{-\\frac{15}{28}}$$"
   ]
  },
  {
   "cell_type": "code",
   "execution_count": 26,
   "metadata": {},
   "outputs": [
    {
     "data": {
      "image/png": "[encoded data removed]",
      "text/latex": [
       "$\\displaystyle \\left(\\frac{4 x}{4 x + 3}\\right)^{\\frac{5 x^{2}}{7 x - 1}}$"
      ],
      "text/plain": [
       "              2 \n",
       "           5⋅x  \n",
       "         ───────\n",
       "         7⋅x - 1\n",
       "⎛  4⋅x  ⎞       \n",
       "⎜───────⎟       \n",
       "⎝4⋅x + 3⎠       "
      ]
     },
     "execution_count": 26,
     "metadata": {},
     "output_type": "execute_result"
    }
   ],
   "source": [
    "a = (4*x / (4*x + 3))**((5*x**2)/(7*x - 1))\n",
    "a"
   ]
  },
  {
   "cell_type": "code",
   "execution_count": 28,
   "metadata": {},
   "outputs": [
    {
     "data": {
      "image/png": "[encoded data removed]",
      "text/latex": [
       "$\\displaystyle e^{- \\frac{15}{28}}$"
      ],
      "text/plain": [
       " -15 \n",
       " ────\n",
       "  28 \n",
       "ℯ    "
      ]
     },
     "execution_count": 28,
     "metadata": {},
     "output_type": "execute_result"
    }
   ],
   "source": [
    "limit(a, x, oo)"
   ]
  },
  {
   "cell_type": "markdown",
   "metadata": {},
   "source": [
    "$$ж^*)\\,\\,\\,\\,\\lim_{x\\to +0} \\frac{5^x-1}{x}$$\n",
    "\n",
    "$$\\lim_{x\\to +0} \\frac{5^x - 1}{x} = \\lim_{x\\to +0} \\frac{e^{ln(5)*x} - 1}{x} = \\lim_{x\\to +0} ln(5)*\\frac{e^{ln(5)*x} - 1}{ln(5)*x} = ln(5)$$"
   ]
  },
  {
   "cell_type": "code",
   "execution_count": 30,
   "metadata": {},
   "outputs": [
    {
     "data": {
      "image/png": "[encoded data removed]",
      "text/latex": [
       "$\\displaystyle \\frac{5^{x} - 1}{x}$"
      ],
      "text/plain": [
       " x    \n",
       "5  - 1\n",
       "──────\n",
       "  x   "
      ]
     },
     "execution_count": 30,
     "metadata": {},
     "output_type": "execute_result"
    }
   ],
   "source": [
    "a = (5**x - 1) / x\n",
    "a"
   ]
  },
  {
   "cell_type": "code",
   "execution_count": 31,
   "metadata": {},
   "outputs": [
    {
     "data": {
      "image/png": "[encoded data removed]",
      "text/latex": [
       "$\\displaystyle \\log{\\left(5 \\right)}$"
      ],
      "text/plain": [
       "log(5)"
      ]
     },
     "execution_count": 31,
     "metadata": {},
     "output_type": "execute_result"
    }
   ],
   "source": [
    "limit(a, x, 0)"
   ]
  },
  {
   "cell_type": "markdown",
   "metadata": {},
   "source": [
    "$$з^*)\\,\\,\\,\\,\\lim_{x\\to +\\infty} \\frac{\\ln(x^2-x+1)}{\\ln(x^{10}+x+1)}$$\n",
    "\n",
    "$$\\lim_{x\\to +\\infty} \\frac{\\ln(x^2 - x + 1)}{\\ln(x^{10} + x + 1)} = \\lim_{x\\to +\\infty} \\frac{\\ln((1 - \\frac{1}{x} + \\frac{1}{x^2})*x^2)}{\\ln((1 + \\frac{1}{x^9} + \\frac{1}{x^{10}})*x^{10})} = \\lim_{x\\to +\\infty} \\frac{\\ln(1) + \\ln(x^2)}{\\ln(1) + \\ln(x^{10})} = \\lim_{x\\to +\\infty} \\frac{2*\\ln(x)}{10*\\ln(x)} = \\frac{1}{5}$$"
   ]
  },
  {
   "cell_type": "code",
   "execution_count": 38,
   "metadata": {},
   "outputs": [
    {
     "data": {
      "image/png": "[encoded data removed]",
      "text/latex": [
       "$\\displaystyle \\frac{\\log{\\left(x^{2} - x + 1 \\right)}}{\\log{\\left(x^{10} + x + 1 \\right)}}$"
      ],
      "text/plain": [
       "   ⎛ 2        ⎞ \n",
       "log⎝x  - x + 1⎠ \n",
       "────────────────\n",
       "   ⎛ 10        ⎞\n",
       "log⎝x   + x + 1⎠"
      ]
     },
     "execution_count": 38,
     "metadata": {},
     "output_type": "execute_result"
    }
   ],
   "source": [
    "a = log(x**2 - x + 1) / log(x**10 + x + 1)\n",
    "a"
   ]
  },
  {
   "cell_type": "code",
   "execution_count": 39,
   "metadata": {},
   "outputs": [
    {
     "data": {
      "image/png": "[encoded data removed]",
      "text/latex": [
       "$\\displaystyle \\frac{1}{5}$"
      ],
      "text/plain": [
       "1/5"
      ]
     },
     "execution_count": 39,
     "metadata": {},
     "output_type": "execute_result"
    }
   ],
   "source": [
    "limit(a, x, oo)"
   ]
  }
 ],
 "metadata": {
  "kernelspec": {
   "display_name": "Python 3",
   "language": "python",
   "name": "python3"
  },
  "language_info": {
   "codemirror_mode": {
    "name": "ipython",
    "version": 3
   },
   "file_extension": ".py",
   "mimetype": "text/x-python",
   "name": "python",
   "nbconvert_exporter": "python",
   "pygments_lexer": "ipython3",
   "version": "3.7.3"
  }
 },
 "nbformat": 4,
 "nbformat_minor": 2
}
