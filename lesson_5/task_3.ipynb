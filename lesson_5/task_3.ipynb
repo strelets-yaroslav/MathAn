{
 "cells": [
  {
   "cell_type": "markdown",
   "metadata": {},
   "source": [
    "__3.__ Найти производную функции:\n",
    "\n",
    "### $$y= \\frac{2x}{1-x^2}$$"
   ]
  },
  {
   "cell_type": "markdown",
   "metadata": {},
   "source": [
    "$$y= \\frac{2x}{1-x^2}$$\n",
    "\n",
    "$$y' = (\\frac{2x}{1-x^2})' = \\frac{(2*x)'*(1 - x^2) - 2*x*(1 - x^2)'}{(1-x^2)^2} = \\frac{2(1 - x^2) + 4x^2}{(1-x^2)^2} = \\frac{2(1 + x^2)}{(1 - x^2)^2}$$"
   ]
  },
  {
   "cell_type": "code",
   "execution_count": 1,
   "metadata": {},
   "outputs": [
    {
     "data": {
      "image/png": "[encoded data removed]",
      "text/latex": [
       "$\\displaystyle \\frac{2 x}{1 - x^{2}}$"
      ],
      "text/plain": [
       " 2⋅x  \n",
       "──────\n",
       "     2\n",
       "1 - x "
      ]
     },
     "execution_count": 1,
     "metadata": {},
     "output_type": "execute_result"
    }
   ],
   "source": [
    "from sympy import *\n",
    "import warnings\n",
    "warnings.filterwarnings('ignore')\n",
    "init_printing()\n",
    "\n",
    "\n",
    "x = Symbol('x')\n",
    "y = 2*x / (1 - x**2)\n",
    "y"
   ]
  },
  {
   "cell_type": "code",
   "execution_count": 2,
   "metadata": {},
   "outputs": [
    {
     "data": {
      "image/png": "[encoded data removed]",
      "text/latex": [
       "$\\displaystyle \\frac{4 x^{2}}{\\left(1 - x^{2}\\right)^{2}} + \\frac{2}{1 - x^{2}}$"
      ],
      "text/plain": [
       "      2           \n",
       "   4⋅x        2   \n",
       "───────── + ──────\n",
       "        2        2\n",
       "⎛     2⎞    1 - x \n",
       "⎝1 - x ⎠          "
      ]
     },
     "execution_count": 2,
     "metadata": {},
     "output_type": "execute_result"
    }
   ],
   "source": [
    "diff(y, x)"
   ]
  },
  {
   "cell_type": "code",
   "execution_count": null,
   "metadata": {},
   "outputs": [],
   "source": []
  }
 ],
 "metadata": {
  "kernelspec": {
   "display_name": "Python 3",
   "language": "python",
   "name": "python3"
  },
  "language_info": {
   "codemirror_mode": {
    "name": "ipython",
    "version": 3
   },
   "file_extension": ".py",
   "mimetype": "text/x-python",
   "name": "python",
   "nbconvert_exporter": "python",
   "pygments_lexer": "ipython3",
   "version": "3.7.3"
  }
 },
 "nbformat": 4,
 "nbformat_minor": 2
}
