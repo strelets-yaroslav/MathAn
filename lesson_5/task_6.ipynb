{
 "cells": [
  {
   "cell_type": "markdown",
   "metadata": {},
   "source": [
    "__6.__ Найти производную функции:\n",
    "\n",
    "### $$y=x \\cdot \\ln(x+\\sqrt{x^2+1})-\\sqrt{x^2+1}$$"
   ]
  },
  {
   "cell_type": "markdown",
   "metadata": {},
   "source": [
    "$$y=x \\cdot \\ln(x+\\sqrt{x^2+1})-\\sqrt{x^2+1}$$\n",
    "\n",
    "$$y' = (x \\cdot \\ln(x+\\sqrt{x^2+1}))' - (\\sqrt{x^2+1})' = x' * \\ln(x+\\sqrt{x^2+1}) + x * (\\ln(x+\\sqrt{x^2+1}))' - \\frac{1}{2\\sqrt{x^2+1}} * (x^2 + 1)'$$\n",
    "\n",
    "$$y' = \\ln(x+\\sqrt{x^2+1}) + \\frac{x}{x + \\sqrt{x^2 + 1}}*(x + \\sqrt{x^2 + 1})' - \\frac{x}{\\sqrt{x^2+1}} = \\ln(x+\\sqrt{x^2+1}) + \\frac{x}{x + \\sqrt{x^2 + 1}}*(1 + \\frac{x}{\\sqrt{x^2+1}}) - \\frac{x}{\\sqrt{x^2+1}}$$\n",
    "\n",
    "$$y' = \\ln(x+\\sqrt{x^2+1}) + \\frac{x}{\\sqrt{x^2 + 1}} - \\frac{x}{\\sqrt{x^2+1}} = \\ln(x+\\sqrt{x^2+1})$$"
   ]
  },
  {
   "cell_type": "code",
   "execution_count": 3,
   "metadata": {},
   "outputs": [
    {
     "data": {
      "image/png": "[encoded data removed]",
      "text/latex": [
       "$\\displaystyle x \\log{\\left(x + \\sqrt{x^{2} + 1} \\right)} - \\sqrt{x^{2} + 1}$"
      ],
      "text/plain": [
       "     ⎛       ________⎞      ________\n",
       "     ⎜      ╱  2     ⎟     ╱  2     \n",
       "x⋅log⎝x + ╲╱  x  + 1 ⎠ - ╲╱  x  + 1 "
      ]
     },
     "execution_count": 3,
     "metadata": {},
     "output_type": "execute_result"
    }
   ],
   "source": [
    "from sympy import *\n",
    "import warnings\n",
    "warnings.filterwarnings('ignore')\n",
    "init_printing()\n",
    "\n",
    "\n",
    "x = Symbol('x')\n",
    "y = x*log(x + sqrt(x**2 + 1)) - sqrt(x**2 + 1)\n",
    "y"
   ]
  },
  {
   "cell_type": "code",
   "execution_count": 2,
   "metadata": {},
   "outputs": [
    {
     "data": {
      "image/png": "[encoded data removed]",
      "text/latex": [
       "$\\displaystyle - \\frac{x}{\\sqrt{x^{2} + 1}} + \\frac{x \\left(\\frac{x}{\\sqrt{x^{2} + 1}} + 1\\right)}{x + \\sqrt{x^{2} + 1}} + \\log{\\left(x + \\sqrt{x^{2} + 1} \\right)}$"
      ],
      "text/plain": [
       "                  ⎛     x         ⎞                       \n",
       "                x⋅⎜─────────── + 1⎟                       \n",
       "                  ⎜   ________    ⎟                       \n",
       "                  ⎜  ╱  2         ⎟      ⎛       ________⎞\n",
       "       x          ⎝╲╱  x  + 1     ⎠      ⎜      ╱  2     ⎟\n",
       "- ─────────── + ─────────────────── + log⎝x + ╲╱  x  + 1 ⎠\n",
       "     ________            ________                         \n",
       "    ╱  2                ╱  2                              \n",
       "  ╲╱  x  + 1      x + ╲╱  x  + 1                          "
      ]
     },
     "execution_count": 2,
     "metadata": {},
     "output_type": "execute_result"
    }
   ],
   "source": [
    "diff(y, x)"
   ]
  },
  {
   "cell_type": "code",
   "execution_count": null,
   "metadata": {},
   "outputs": [],
   "source": []
  }
 ],
 "metadata": {
  "kernelspec": {
   "display_name": "Python 3",
   "language": "python",
   "name": "python3"
  },
  "language_info": {
   "codemirror_mode": {
    "name": "ipython",
    "version": 3
   },
   "file_extension": ".py",
   "mimetype": "text/x-python",
   "name": "python",
   "nbconvert_exporter": "python",
   "pygments_lexer": "ipython3",
   "version": "3.7.3"
  }
 },
 "nbformat": 4,
 "nbformat_minor": 2
}
