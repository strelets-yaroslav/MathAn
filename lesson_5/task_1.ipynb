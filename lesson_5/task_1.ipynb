{
 "cells": [
  {
   "cell_type": "markdown",
   "metadata": {},
   "source": [
    "__1.__ Найти производную функции:\n",
    "\n",
    "### $$y=\\frac{1}{x}+\\frac{2}{x^2}-\\frac{5}{x^3}+\\sqrt x -\\sqrt[3]x+\\frac{3}{\\sqrt x}$$"
   ]
  },
  {
   "cell_type": "markdown",
   "metadata": {},
   "source": [
    "$$y=\\frac{1}{x}+\\frac{2}{x^2}-\\frac{5}{x^3}+\\sqrt x -\\sqrt[3]x+\\frac{3}{\\sqrt x}$$\n",
    "$$y = x^{-1} + 2*x^{-2} - 5*x^{-3} + x^{\\frac{1}{2}} - x^{\\frac{1}{3}} + 3*x^{-\\frac{1}{2}}$$\n",
    "$$y' = -x^{-2} - 4*x^{-3} + 15*x^{-4} + \\frac{1}{2}*x^{-\\frac{1}{2}} - \\frac{1}{3}*x^{-\\frac{2}{3}} - \\frac{3}{2}*x^{-\\frac{3}{2}}$$\n",
    "$$y' = -\\frac{1}{x^2} - \\frac{4}{x^3} + \\frac{15}{x^4} + \\frac{1}{2*\\sqrt{x}} - \\frac{1}{3*\\sqrt[3]{x^2}} - \\frac{3}{2*\\sqrt{x^3}}$$"
   ]
  },
  {
   "cell_type": "code",
   "execution_count": 1,
   "metadata": {},
   "outputs": [
    {
     "data": {
      "image/png": "[encoded data removed]",
      "text/latex": [
       "$\\displaystyle - \\sqrt[3]{x} + \\sqrt{x} + \\frac{1}{x} + \\frac{2}{x^{2}} - \\frac{5}{x^{3}} + \\frac{3}{\\sqrt{x}}$"
      ],
      "text/plain": [
       "  3 ___        1   2    5    3 \n",
       "- ╲╱ x  + √x + ─ + ── - ── + ──\n",
       "               x    2    3   √x\n",
       "                   x    x      "
      ]
     },
     "execution_count": 1,
     "metadata": {},
     "output_type": "execute_result"
    }
   ],
   "source": [
    "from sympy import *\n",
    "import warnings\n",
    "warnings.filterwarnings('ignore')\n",
    "init_printing()\n",
    "\n",
    "\n",
    "x = Symbol('x')\n",
    "y = 1 / x + 2 / (x**2) - 5 / (x**3) + sqrt(x) - root(x, 3) + 3 / sqrt(x)\n",
    "y"
   ]
  },
  {
   "cell_type": "code",
   "execution_count": 2,
   "metadata": {},
   "outputs": [
    {
     "data": {
      "image/png": "[encoded data removed]",
      "text/latex": [
       "$\\displaystyle - \\frac{1}{x^{2}} - \\frac{4}{x^{3}} + \\frac{15}{x^{4}} + \\frac{1}{2 \\sqrt{x}} - \\frac{3}{2 x^{\\frac{3}{2}}} - \\frac{1}{3 x^{\\frac{2}{3}}}$"
      ],
      "text/plain": [
       "  1    4    15    1       3        1   \n",
       "- ── - ── + ── + ──── - ────── - ──────\n",
       "   2    3    4   2⋅√x      3/2      2/3\n",
       "  x    x    x           2⋅x      3⋅x   "
      ]
     },
     "execution_count": 2,
     "metadata": {},
     "output_type": "execute_result"
    }
   ],
   "source": [
    "diff(y, x)"
   ]
  },
  {
   "cell_type": "code",
   "execution_count": null,
   "metadata": {},
   "outputs": [],
   "source": []
  }
 ],
 "metadata": {
  "kernelspec": {
   "display_name": "Python 3",
   "language": "python",
   "name": "python3"
  },
  "language_info": {
   "codemirror_mode": {
    "name": "ipython",
    "version": 3
   },
   "file_extension": ".py",
   "mimetype": "text/x-python",
   "name": "python",
   "nbconvert_exporter": "python",
   "pygments_lexer": "ipython3",
   "version": "3.7.3"
  }
 },
 "nbformat": 4,
 "nbformat_minor": 2
}
