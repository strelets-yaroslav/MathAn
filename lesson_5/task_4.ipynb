{
 "cells": [
  {
   "cell_type": "markdown",
   "metadata": {},
   "source": [
    "__4*.__ Найти производную функции:\n",
    "\n",
    "### $$y=\\sqrt{x+ \\sqrt{x+\\sqrt x}}$$"
   ]
  },
  {
   "cell_type": "markdown",
   "metadata": {},
   "source": [
    "$$y=\\sqrt{x+ \\sqrt{x+\\sqrt x}} = (x + (x + x^{\\frac{1}{2}})^{\\frac{1}{2}})^{\\frac{1}{2}}$$\n",
    "\n",
    "$$y' = ((x + (x + x^{\\frac{1}{2}})^{\\frac{1}{2}})^{\\frac{1}{2}})' = \\frac{1}{2*\\sqrt{x+ \\sqrt{x+\\sqrt x}}} * (1 + (\\sqrt{x + \\sqrt x})')$$\n",
    "$$y' = \\frac{1}{2*\\sqrt{x+ \\sqrt{x+\\sqrt x}}} * \\Bigl(1 + \\frac{1}{2*\\sqrt{x + \\sqrt x}} * (x + \\sqrt x)' \\Bigr) = \\frac{1}{2*\\sqrt{x+ \\sqrt{x+\\sqrt x}}} * \\Bigl(1 + \\frac{1}{2*\\sqrt{x + \\sqrt x}} * (1 + \\frac{1}{2\\sqrt x}) \\Bigr)$$\n",
    "\n",
    "$$y' = \\frac{1}{2*\\sqrt{x+ \\sqrt{x+\\sqrt x}}} * \\Bigl(1 + \\frac{\\frac{1}{2} + \\frac{1}{4\\sqrt x}}{\\sqrt{x + \\sqrt x}} \\Bigr)$$\n",
    "\n",
    "$$y' = \\frac{\\frac{1}{2} + \\frac{\\frac{1}{2} + \\frac{1}{4\\sqrt x}}{2*\\sqrt{x + \\sqrt x}}}{\\sqrt{x+ \\sqrt{x+\\sqrt x}}} = \\frac{1 + \\frac{1 + \\frac{1}{2\\sqrt x}}{2\\sqrt{x + \\sqrt x}}}{2\\sqrt{x+ \\sqrt{x+\\sqrt x}}}$$"
   ]
  },
  {
   "cell_type": "code",
   "execution_count": 3,
   "metadata": {},
   "outputs": [
    {
     "data": {
      "image/png": "[encoded data removed]",
      "text/latex": [
       "$\\displaystyle \\sqrt{x + \\sqrt{\\sqrt{x} + x}}$"
      ],
      "text/plain": [
       "   ________________\n",
       "  ╱       ________ \n",
       "╲╱  x + ╲╱ √x + x  "
      ]
     },
     "execution_count": 3,
     "metadata": {},
     "output_type": "execute_result"
    }
   ],
   "source": [
    "from sympy import *\n",
    "import warnings\n",
    "warnings.filterwarnings('ignore')\n",
    "init_printing()\n",
    "\n",
    "\n",
    "x = Symbol('x')\n",
    "y = sqrt(x + sqrt(x + sqrt(x)))\n",
    "y"
   ]
  },
  {
   "cell_type": "code",
   "execution_count": 2,
   "metadata": {},
   "outputs": [
    {
     "data": {
      "image/png": "[encoded data removed]",
      "text/latex": [
       "$\\displaystyle \\frac{\\frac{\\frac{1}{2} + \\frac{1}{4 \\sqrt{x}}}{2 \\sqrt{\\sqrt{x} + x}} + \\frac{1}{2}}{\\sqrt{x + \\sqrt{\\sqrt{x} + x}}}$"
      ],
      "text/plain": [
       "    1    1         \n",
       "    ─ + ────       \n",
       "    2   4⋅√x     1 \n",
       "  ──────────── + ─ \n",
       "      ________   2 \n",
       "  2⋅╲╱ √x + x      \n",
       "───────────────────\n",
       "   ________________\n",
       "  ╱       ________ \n",
       "╲╱  x + ╲╱ √x + x  "
      ]
     },
     "execution_count": 2,
     "metadata": {},
     "output_type": "execute_result"
    }
   ],
   "source": [
    "diff(y, x)"
   ]
  },
  {
   "cell_type": "code",
   "execution_count": null,
   "metadata": {},
   "outputs": [],
   "source": []
  }
 ],
 "metadata": {
  "kernelspec": {
   "display_name": "Python 3",
   "language": "python",
   "name": "python3"
  },
  "language_info": {
   "codemirror_mode": {
    "name": "ipython",
    "version": 3
   },
   "file_extension": ".py",
   "mimetype": "text/x-python",
   "name": "python",
   "nbconvert_exporter": "python",
   "pygments_lexer": "ipython3",
   "version": "3.7.3"
  }
 },
 "nbformat": 4,
 "nbformat_minor": 2
}
