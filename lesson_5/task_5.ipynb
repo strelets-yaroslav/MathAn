{
 "cells": [
  {
   "cell_type": "markdown",
   "metadata": {},
   "source": [
    "__5.__ Найти производную функции:\n",
    "\n",
    "### $$y= \\ln(x+\\sqrt{x^2+1})$$"
   ]
  },
  {
   "cell_type": "markdown",
   "metadata": {},
   "source": [
    "$$y= \\ln(x+\\sqrt{x^2+1})$$\n",
    "\n",
    "$$y' = (\\ln(x+\\sqrt{x^2+1}))' * (x + \\sqrt{x^2 + 1})') = \\frac{1}{x + \\sqrt{x^2 + 1}} * (1 + (\\sqrt{x^2 + 1})') =  \\frac{1}{x + \\sqrt{x^2 + 1}} * (1 + \\frac{1}{2*\\sqrt{x^2 + 1}} * (x^2 + 1)')$$\n",
    "\n",
    "$$y' = \\frac{1}{x + \\sqrt{x^2 + 1}} * (1 + \\frac{2*x}{2*\\sqrt{x^2 + 1}}) = \\frac{1}{x + \\sqrt{x^2 + 1}}*\\frac{x + \\sqrt{x^2 + 1}}{\\sqrt{x^2 + 1}} = \\frac{1}{\\sqrt{x^2 + 1}}$$"
   ]
  },
  {
   "cell_type": "code",
   "execution_count": 2,
   "metadata": {},
   "outputs": [
    {
     "data": {
      "image/png": "[encoded data removed]",
      "text/latex": [
       "$\\displaystyle \\log{\\left(x + \\sqrt{x^{2} + 1} \\right)}$"
      ],
      "text/plain": [
       "   ⎛       ________⎞\n",
       "   ⎜      ╱  2     ⎟\n",
       "log⎝x + ╲╱  x  + 1 ⎠"
      ]
     },
     "execution_count": 2,
     "metadata": {},
     "output_type": "execute_result"
    }
   ],
   "source": [
    "from sympy import *\n",
    "import warnings\n",
    "warnings.filterwarnings('ignore')\n",
    "init_printing()\n",
    "\n",
    "\n",
    "x = Symbol('x')\n",
    "y = log(x + sqrt(x**2 + 1))\n",
    "y"
   ]
  },
  {
   "cell_type": "code",
   "execution_count": 3,
   "metadata": {},
   "outputs": [
    {
     "data": {
      "image/png": "[encoded data removed]",
      "text/latex": [
       "$\\displaystyle \\frac{\\frac{x}{\\sqrt{x^{2} + 1}} + 1}{x + \\sqrt{x^{2} + 1}}$"
      ],
      "text/plain": [
       "     x         \n",
       "─────────── + 1\n",
       "   ________    \n",
       "  ╱  2         \n",
       "╲╱  x  + 1     \n",
       "───────────────\n",
       "       ________\n",
       "      ╱  2     \n",
       "x + ╲╱  x  + 1 "
      ]
     },
     "execution_count": 3,
     "metadata": {},
     "output_type": "execute_result"
    }
   ],
   "source": [
    "diff(y, x)"
   ]
  },
  {
   "cell_type": "code",
   "execution_count": null,
   "metadata": {},
   "outputs": [],
   "source": []
  }
 ],
 "metadata": {
  "kernelspec": {
   "display_name": "Python 3",
   "language": "python",
   "name": "python3"
  },
  "language_info": {
   "codemirror_mode": {
    "name": "ipython",
    "version": 3
   },
   "file_extension": ".py",
   "mimetype": "text/x-python",
   "name": "python",
   "nbconvert_exporter": "python",
   "pygments_lexer": "ipython3",
   "version": "3.7.3"
  }
 },
 "nbformat": 4,
 "nbformat_minor": 2
}
