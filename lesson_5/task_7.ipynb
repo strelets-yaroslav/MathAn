{
 "cells": [
  {
   "cell_type": "markdown",
   "metadata": {},
   "source": [
    "__7*.__ Найти производную функции:\n",
    "\n",
    "### $$y=\\arcsin (\\sin x)$$"
   ]
  },
  {
   "cell_type": "markdown",
   "metadata": {},
   "source": [
    "$$y=\\arcsin (\\sin x)$$\n",
    "\n",
    "$$y' = (\\arcsin (\\sin x))' = (\\arcsin (\\sin x))'*(\\sin(x))' = \\frac{1}{\\sqrt{1 - \\sin^2x}}*\\cos(x) = \\frac{\\cos(x)}{\\sqrt{\\cos^2x}} = \\frac{\\cos(x)}{|\\cos(x)|}$$"
   ]
  },
  {
   "cell_type": "code",
   "execution_count": 2,
   "metadata": {},
   "outputs": [
    {
     "data": {
      "image/png": "[encoded data removed]",
      "text/latex": [
       "$\\displaystyle \\operatorname{asin}{\\left(\\sin{\\left(x \\right)} \\right)}$"
      ],
      "text/plain": [
       "asin(sin(x))"
      ]
     },
     "execution_count": 2,
     "metadata": {},
     "output_type": "execute_result"
    }
   ],
   "source": [
    "from sympy import *\n",
    "import warnings\n",
    "warnings.filterwarnings('ignore')\n",
    "init_printing()\n",
    "\n",
    "\n",
    "x = Symbol('x')\n",
    "y = asin(sin(x))\n",
    "y"
   ]
  },
  {
   "cell_type": "code",
   "execution_count": 3,
   "metadata": {},
   "outputs": [
    {
     "data": {
      "image/png": "[encoded data removed]",
      "text/latex": [
       "$\\displaystyle \\frac{\\cos{\\left(x \\right)}}{\\sqrt{1 - \\sin^{2}{\\left(x \\right)}}}$"
      ],
      "text/plain": [
       "     cos(x)     \n",
       "────────────────\n",
       "   _____________\n",
       "  ╱        2    \n",
       "╲╱  1 - sin (x) "
      ]
     },
     "execution_count": 3,
     "metadata": {},
     "output_type": "execute_result"
    }
   ],
   "source": [
    "diff(y, x)"
   ]
  },
  {
   "cell_type": "code",
   "execution_count": null,
   "metadata": {},
   "outputs": [],
   "source": []
  }
 ],
 "metadata": {
  "kernelspec": {
   "display_name": "Python 3",
   "language": "python",
   "name": "python3"
  },
  "language_info": {
   "codemirror_mode": {
    "name": "ipython",
    "version": 3
   },
   "file_extension": ".py",
   "mimetype": "text/x-python",
   "name": "python",
   "nbconvert_exporter": "python",
   "pygments_lexer": "ipython3",
   "version": "3.7.3"
  }
 },
 "nbformat": 4,
 "nbformat_minor": 2
}
