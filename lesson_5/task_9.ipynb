{
 "cells": [
  {
   "cell_type": "markdown",
   "metadata": {},
   "source": [
    "__9**.__ Написать на python алгоритм, по вычислению значений $\\sin(x)$ для $х \\in[0, 30^0]$\n",
    "\n",
    "Для проверки подойдут данные из таблицы Брадиса"
   ]
  },
  {
   "cell_type": "markdown",
   "metadata": {},
   "source": [
    "$$f(x+\\Delta x) \\approx f(x)+f'(x) \\cdot \\Delta x$$\n",
    "\n",
    "$$\\sin(x + \\Delta x) \\approx \\sin(x) + (\\sin(x))'*\\Delta x = \\sin(x) + \\cos(x)*\\Delta x = \\sin(x) + \\sqrt{1 - sin^2(x)} * \\Delta x$$"
   ]
  },
  {
   "cell_type": "code",
   "execution_count": 41,
   "metadata": {},
   "outputs": [
    {
     "name": "stdout",
     "output_type": "stream",
     "text": [
      "Введите угол в градусах: 10.268\n",
      "Приближённое значение синуса(10.268): 0.17825367479830867,\n",
      "sin(10.268) = 0.1782526821902505,\n",
      "ошибка: 9.926080581645902e-07\n"
     ]
    }
   ],
   "source": [
    "import numpy as np\n",
    "\n",
    "\n",
    "def func(delta, prev):\n",
    "    prev_cos = 1 - prev**2\n",
    "    try:\n",
    "        prev_cos = np.sqrt(prev_cos) if round(prev_cos, 10) != 0.0 else 0.0\n",
    "    except:\n",
    "        print('Что-то всё же пошло не так...')\n",
    "    \n",
    "    return prev + prev_cos*delta\n",
    "\n",
    "\n",
    "def appr_sin(alpha):\n",
    "    sign = 1 if alpha >= 0 else -1\n",
    "    alpha = abs(alpha) % 360\n",
    "    if 90 < alpha < 270:\n",
    "        alpha = 180 - alpha\n",
    "        sign *= 1 if alpha >= 0 else -1\n",
    "        alpha = abs(alpha)\n",
    "    elif alpha >= 270:\n",
    "        alpha = 360 - alpha\n",
    "        sign *= -1\n",
    "    \n",
    "    secs = 3600\n",
    "    delta = np.pi / 180 / secs\n",
    "    count = alpha * secs\n",
    "    res = 0.0\n",
    "    index = 0\n",
    "    while index < count:\n",
    "        res = func(delta, res)\n",
    "        index += 1\n",
    "    \n",
    "    return res * sign\n",
    "\n",
    "\n",
    "while True:\n",
    "    alpha = input('Введите угол в градусах: ')\n",
    "    try:\n",
    "        alpha = float(alpha)\n",
    "        break\n",
    "    except:\n",
    "        print('Нужно вводить число!')\n",
    "\n",
    "rad = np.pi * alpha / 180\n",
    "res = appr_sin(alpha)\n",
    "check = np.sin(rad)\n",
    "print(f'Приближённое значение синуса({alpha}): {res},\\nsin({alpha}) = {check},\\nошибка: {abs(check - res)}')"
   ]
  },
  {
   "cell_type": "code",
   "execution_count": null,
   "metadata": {},
   "outputs": [],
   "source": []
  }
 ],
 "metadata": {
  "kernelspec": {
   "display_name": "Python 3",
   "language": "python",
   "name": "python3"
  },
  "language_info": {
   "codemirror_mode": {
    "name": "ipython",
    "version": 3
   },
   "file_extension": ".py",
   "mimetype": "text/x-python",
   "name": "python",
   "nbconvert_exporter": "python",
   "pygments_lexer": "ipython3",
   "version": "3.7.3"
  }
 },
 "nbformat": 4,
 "nbformat_minor": 2
}
