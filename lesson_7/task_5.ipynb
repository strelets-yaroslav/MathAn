{
 "cells": [
  {
   "cell_type": "markdown",
   "metadata": {},
   "source": [
    "__5*.__ Найти производную функции $U=\\log_{21}(x^2+y^2+z^2)$ в точке $F(-19,8,-4)$ по самому быстрому направлению."
   ]
  },
  {
   "cell_type": "markdown",
   "metadata": {},
   "source": [
    "$U = \\log_{21}(x^2+y^2+z^2) = \\frac{\\ln(x^2+y^2+z^2)}{\\ln{21}}$\n",
    "\n",
    "Самое быстрое направление - это направление градиента. Производная по направлению градиента равна норме градиента.\n",
    "\n",
    "Найдём градиент в точке $F$:\n",
    "\n",
    "$$U'_x = \\frac{2x}{(x^2+y^2+z^2)\\cdot\\ln{21}},\\,U'_y = \\frac{2y}{(x^2+y^2+z^2)\\cdot\\ln{21}},\\,U'_z = \\frac{2z}{(x^2+y^2+z^2)\\cdot\\ln{21}}$$\n",
    "\n",
    "Норма градиента: \n",
    "$$|\\mbox{grad}U| = \\sqrt{(U'_x)^2 + (U'_y)^2 + (U'_z)^2} = \\frac{2}{(x^2+y^2+z^2)\\cdot\\ln{21}} * \\sqrt{x^2+y^2+z^2} = \\frac{2}{\\sqrt{x^2+y^2+z^2}\\cdot\\ln{21}} = \\frac{2}{\\sqrt{(-19)^2+8^2+(-4)^2}\\cdot\\ln{21}} = \\frac{2}{21\\cdot\\ln{21}} = U'_{\\mbox{grad}U}$$"
   ]
  },
  {
   "cell_type": "code",
   "execution_count": null,
   "metadata": {},
   "outputs": [],
   "source": []
  }
 ],
 "metadata": {
  "kernelspec": {
   "display_name": "Python 3",
   "language": "python",
   "name": "python3"
  },
  "language_info": {
   "codemirror_mode": {
    "name": "ipython",
    "version": 3
   },
   "file_extension": ".py",
   "mimetype": "text/x-python",
   "name": "python",
   "nbconvert_exporter": "python",
   "pygments_lexer": "ipython3",
   "version": "3.7.3"
  }
 },
 "nbformat": 4,
 "nbformat_minor": 2
}
