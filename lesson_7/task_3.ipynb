{
 "cells": [
  {
   "cell_type": "markdown",
   "metadata": {},
   "source": [
    "__3.__ Найти производную функции $U=x^2+y^2+z^2$ по направлению вектора $\\overrightarrow{c}(-9,8,-12)$ в точке $M(8,-12,9)$"
   ]
  },
  {
   "cell_type": "markdown",
   "metadata": {},
   "source": [
    "Находим норму вектора $\\overrightarrow{c}$: $|\\overrightarrow{c}| = \\sqrt{x^2_{0} + y^2_{0} + z^2_{0}} = \\sqrt{(-9)^2 + 8^2 + (-12)^2} = \\sqrt{289} = 17$\n",
    "\n",
    "Единичный вектор тогда равен $\\overrightarrow{с_{0}}=\\frac{\\overrightarrow{c}}{|\\overrightarrow{c}|}=\\Bigr(-\\frac{9}{17}, \\frac{8}{17}, -\\frac{12}{17}\\Bigl)$\n",
    "\n",
    "Найдём градиент в точке $M$:\n",
    "\n",
    "$$U'_x = 2x,\\,U'_y = 2y,\\,U'_z = 2z$$\n",
    "\n",
    "$$\\mbox{grad}U = (16, -24, 18)$$\n",
    "\n",
    "Значение производной:\n",
    "$$U'_{\\overrightarrow{c}} = -\\frac{9}{17}\\cdot 16 + \\frac{8}{17}\\cdot (-24) - \\frac{12}{17}\\cdot 18 = \\frac{-144 - 192 - 216}{17} = -\\frac{552}{17}$$"
   ]
  },
  {
   "cell_type": "code",
   "execution_count": null,
   "metadata": {},
   "outputs": [],
   "source": []
  }
 ],
 "metadata": {
  "kernelspec": {
   "display_name": "Python 3",
   "language": "python",
   "name": "python3"
  },
  "language_info": {
   "codemirror_mode": {
    "name": "ipython",
    "version": 3
   },
   "file_extension": ".py",
   "mimetype": "text/x-python",
   "name": "python",
   "nbconvert_exporter": "python",
   "pygments_lexer": "ipython3",
   "version": "3.7.3"
  }
 },
 "nbformat": 4,
 "nbformat_minor": 2
}
