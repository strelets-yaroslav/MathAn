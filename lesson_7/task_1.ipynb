{
 "cells": [
  {
   "cell_type": "markdown",
   "metadata": {},
   "source": [
    "__1.__ Найти частные производные первого и второго порядка. Убедиться в равенстве смешанных производных.\n",
    "\n",
    "### $$U=x^3+3xy^2+z^2-39x-36y+2z+26$$"
   ]
  },
  {
   "cell_type": "markdown",
   "metadata": {},
   "source": [
    "$$U'_x = 3x^2 + 3y^2 - 39$$\n",
    "$$U'_y = 6xy - 36$$\n",
    "$$U'_z = 2z + 2$$\n",
    "\n",
    "$$U''_{xx} = 6x$$\n",
    "$$U''_{xy} = 6y$$\n",
    "$$U''_{xz} = 0$$\n",
    "\n",
    "$$U''_{yy} = 6x$$\n",
    "$$U''_{yx} = 6y$$\n",
    "$$U''_{yz} = 0$$\n",
    "\n",
    "$$U''_{zz} = 2$$\n",
    "$$U''_{zx} = 0$$\n",
    "$$U''_{zy} = 0$$"
   ]
  },
  {
   "cell_type": "code",
   "execution_count": 1,
   "metadata": {},
   "outputs": [
    {
     "data": {
      "image/png": "[encoded data removed]",
      "text/latex": [
       "$\\displaystyle x^{3} + 3 x y^{2} - 39 x - 36 y + z^{2} + 2 z + 26$"
      ],
      "text/plain": [
       " 3        2                  2           \n",
       "x  + 3⋅x⋅y  - 39⋅x - 36⋅y + z  + 2⋅z + 26"
      ]
     },
     "execution_count": 1,
     "metadata": {},
     "output_type": "execute_result"
    }
   ],
   "source": [
    "from sympy import *\n",
    "import warnings\n",
    "warnings.filterwarnings('ignore')\n",
    "init_printing()\n",
    "\n",
    "\n",
    "x, y, z = symbols('x y z')\n",
    "U = x**3 + 3*x*y**2 + z**2 - 39*x - 36*y + 2*z + 26\n",
    "U"
   ]
  },
  {
   "cell_type": "code",
   "execution_count": 2,
   "metadata": {},
   "outputs": [
    {
     "data": {
      "image/png": "[encoded data removed]",
      "text/latex": [
       "$\\displaystyle 3 x^{2} + 3 y^{2} - 39$"
      ],
      "text/plain": [
       "   2      2     \n",
       "3⋅x  + 3⋅y  - 39"
      ]
     },
     "execution_count": 2,
     "metadata": {},
     "output_type": "execute_result"
    }
   ],
   "source": [
    "diff(U, x)"
   ]
  },
  {
   "cell_type": "code",
   "execution_count": 3,
   "metadata": {},
   "outputs": [
    {
     "data": {
      "image/png": "[encoded data removed]",
      "text/latex": [
       "$\\displaystyle 6 y$"
      ],
      "text/plain": [
       "6⋅y"
      ]
     },
     "execution_count": 3,
     "metadata": {},
     "output_type": "execute_result"
    }
   ],
   "source": [
    "diff(U, x, y)"
   ]
  },
  {
   "cell_type": "code",
   "execution_count": null,
   "metadata": {},
   "outputs": [],
   "source": []
  }
 ],
 "metadata": {
  "kernelspec": {
   "display_name": "Python 3",
   "language": "python",
   "name": "python3"
  },
  "language_info": {
   "codemirror_mode": {
    "name": "ipython",
    "version": 3
   },
   "file_extension": ".py",
   "mimetype": "text/x-python",
   "name": "python",
   "nbconvert_exporter": "python",
   "pygments_lexer": "ipython3",
   "version": "3.7.3"
  }
 },
 "nbformat": 4,
 "nbformat_minor": 2
}
