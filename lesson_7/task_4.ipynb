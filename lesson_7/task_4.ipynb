{
 "cells": [
  {
   "cell_type": "markdown",
   "metadata": {},
   "source": [
    "__4.__ Найти производную функции $U=e^{x^2+y^2+z^2}$ по направлению вектора $\\overrightarrow{c}(4,-13,-16)$ в точке $L(-16,4,-13)$"
   ]
  },
  {
   "cell_type": "markdown",
   "metadata": {},
   "source": [
    "Находим норму вектора $\\overrightarrow{c}$: $|\\overrightarrow{c}| = \\sqrt{x^2_{0} + y^2_{0} + z^2_{0}} = \\sqrt{4^2 + (-13)^2 + (-16)^2} = \\sqrt{441} = 21$\n",
    "\n",
    "Единичный вектор тогда равен $\\overrightarrow{с_{0}}=\\frac{\\overrightarrow{c}}{|\\overrightarrow{c}|}=\\Bigr(\\frac{4}{21}, -\\frac{13}{21}, -\\frac{16}{21}\\Bigl)$\n",
    "\n",
    "Найдём градиент в точке $L$:\n",
    "\n",
    "$$U'_x = 2x*e^{x^2+y^2+z^2},\\,U'_y = 2y*e^{x^2+y^2+z^2},\\,U'_z = 2z*e^{x^2+y^2+z^2}$$\n",
    "\n",
    "$$\\mbox{grad}U = (-32*e^{441}, 8*e^{441}, -26*e^{441})$$\n",
    "\n",
    "Значение производной:\n",
    "$$U'_{\\overrightarrow{c}} = \\frac{4}{21}\\cdot (-32*e^{441}) - \\frac{13}{21}\\cdot (8*e^{441}) - \\frac{16}{21}\\cdot (-26*e^{441}) = e^{441}*\\frac{-128 - 104 + 416}{21} = \\frac{184}{21}e^{441}$$"
   ]
  },
  {
   "cell_type": "code",
   "execution_count": null,
   "metadata": {},
   "outputs": [],
   "source": []
  }
 ],
 "metadata": {
  "kernelspec": {
   "display_name": "Python 3",
   "language": "python",
   "name": "python3"
  },
  "language_info": {
   "codemirror_mode": {
    "name": "ipython",
    "version": 3
   },
   "file_extension": ".py",
   "mimetype": "text/x-python",
   "name": "python",
   "nbconvert_exporter": "python",
   "pygments_lexer": "ipython3",
   "version": "3.7.3"
  }
 },
 "nbformat": 4,
 "nbformat_minor": 2
}
