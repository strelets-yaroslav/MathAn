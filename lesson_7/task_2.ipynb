{
 "cells": [
  {
   "cell_type": "markdown",
   "metadata": {},
   "source": [
    "__2.__ Найти частные производные первого и второго порядка. Убедиться в равенстве смешанных производных.\n",
    "\n",
    "### $$U=\\frac{256}{x}+\\frac{x^2}{y}+\\frac{y^2}{z}+z^2$$"
   ]
  },
  {
   "cell_type": "markdown",
   "metadata": {},
   "source": [
    "$$U'_x = -\\frac{256}{x^2} + \\frac{2x}{y} $$\n",
    "$$U'_y = -\\frac{x^2}{y^2} + \\frac{2y}{z} $$\n",
    "$$U'_z = -\\frac{y^2}{z^2} + 2z $$\n",
    "\n",
    "$$U''_{xx} = \\frac{512}{x^3} + \\frac{2}{y} $$\n",
    "$$U''_{xy} = -\\frac{2x}{y^2} $$\n",
    "$$U''_{xz} = 0 $$\n",
    "\n",
    "$$U''_{yy} = \\frac{2x^2}{y^3} + \\frac{2}{z} $$\n",
    "$$U''_{yx} = -\\frac{2x}{y^2} $$\n",
    "$$U''_{yz} = -\\frac{2y}{z^2} $$\n",
    "\n",
    "$$U''_{zz} = \\frac{2y^2}{z^3} + 2 $$\n",
    "$$U''_{zx} = 0 $$\n",
    "$$U''_{zy} = -\\frac{2y}{z^2} $$"
   ]
  },
  {
   "cell_type": "code",
   "execution_count": 1,
   "metadata": {},
   "outputs": [
    {
     "data": {
      "image/png": "[encoded data removed]",
      "text/latex": [
       "$\\displaystyle \\frac{x^{2}}{y} + \\frac{y^{2}}{z} + z^{2} + \\frac{256}{x}$"
      ],
      "text/plain": [
       " 2    2           \n",
       "x    y     2   256\n",
       "── + ── + z  + ───\n",
       "y    z          x "
      ]
     },
     "execution_count": 1,
     "metadata": {},
     "output_type": "execute_result"
    }
   ],
   "source": [
    "from sympy import *\n",
    "import warnings\n",
    "warnings.filterwarnings('ignore')\n",
    "init_printing()\n",
    "\n",
    "\n",
    "x, y, z = symbols('x y z')\n",
    "U = 256/x + x**2/y + y**2/z + z**2\n",
    "U"
   ]
  },
  {
   "cell_type": "code",
   "execution_count": 2,
   "metadata": {},
   "outputs": [
    {
     "data": {
      "image/png": "[encoded data removed]",
      "text/latex": [
       "$\\displaystyle \\frac{2 x}{y} - \\frac{256}{x^{2}}$"
      ],
      "text/plain": [
       "2⋅x   256\n",
       "─── - ───\n",
       " y      2\n",
       "       x "
      ]
     },
     "execution_count": 2,
     "metadata": {},
     "output_type": "execute_result"
    }
   ],
   "source": [
    "diff(U, x)"
   ]
  },
  {
   "cell_type": "code",
   "execution_count": 3,
   "metadata": {},
   "outputs": [
    {
     "data": {
      "image/png": "[encoded data removed]",
      "text/latex": [
       "$\\displaystyle 2 \\left(\\frac{1}{y} + \\frac{256}{x^{3}}\\right)$"
      ],
      "text/plain": [
       "  ⎛1   256⎞\n",
       "2⋅⎜─ + ───⎟\n",
       "  ⎜y     3⎟\n",
       "  ⎝     x ⎠"
      ]
     },
     "execution_count": 3,
     "metadata": {},
     "output_type": "execute_result"
    }
   ],
   "source": [
    "diff(U, x, x)"
   ]
  },
  {
   "cell_type": "code",
   "execution_count": null,
   "metadata": {},
   "outputs": [],
   "source": []
  }
 ],
 "metadata": {
  "kernelspec": {
   "display_name": "Python 3",
   "language": "python",
   "name": "python3"
  },
  "language_info": {
   "codemirror_mode": {
    "name": "ipython",
    "version": 3
   },
   "file_extension": ".py",
   "mimetype": "text/x-python",
   "name": "python",
   "nbconvert_exporter": "python",
   "pygments_lexer": "ipython3",
   "version": "3.7.3"
  }
 },
 "nbformat": 4,
 "nbformat_minor": 2
}
