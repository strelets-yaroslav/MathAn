{
 "cells": [
  {
   "cell_type": "markdown",
   "metadata": {},
   "source": [
    "__8**.__ С помощью метода наименьших квадратов (МНК) подобрать значения параметров $a$ и $b$ для сигмоидальной функции $$y=\\frac{1}{1+e^{-(ax+b)}}$$ \n",
    "\n",
    "по заданному распределению. Построить график."
   ]
  },
  {
   "cell_type": "markdown",
   "metadata": {},
   "source": [
    "Для удобства представим функцию в таком виде: $y = \\frac{e^{ax + b}}{e^{ax + b} + 1}$\n",
    "\n",
    "Погрешность $\\varepsilon$ для каждой точки имеет вид:\n",
    "$$y_{i} - \\frac{e^{ax + b}}{e^{ax + b} + 1} = \\varepsilon_{i}$$\n",
    "\n",
    "Составим систему уравнений, приравняв частные производные функции ошибок $U(k,b)=\\varepsilon^2_{1}+\\varepsilon^2_{2}+\\varepsilon^2_{3}+\\varepsilon^2_{4}+...+\\varepsilon^2_{n}$.\n",
    "$$\\begin{cases}\n",
    "   U'_{k} = \\sum\\limits_{i=1}^n\\Bigl( -2\\cdot\\Bigl( y_i - \\frac{e^{ax_i + b}}{e^{ax_i + b} + 1} \\Bigr) \\cdot\\frac{x_ie^{ax_i + b}}{(e^{ax_i + b} + 1)^2} \\Bigr)=0, \\\\\n",
    "   U'_{b} = \\sum\\limits_{i=1}^n\\Bigl( -2\\cdot\\Bigl( y_i - \\frac{e^{ax_i + b}}{e^{ax_i + b} + 1} \\Bigr) \\cdot\\frac{e^{ax_i + b}}{(e^{ax_i + b} + 1)^2} \\Bigr)=0 \n",
    " \\end{cases}$$\n",
    "\n",
    "Убираем общий коэффициент (-2) из обоих уравнений и воспользуемся методом fsolve для численного решения данной системы."
   ]
  },
  {
   "cell_type": "code",
   "execution_count": 19,
   "metadata": {},
   "outputs": [
    {
     "name": "stdout",
     "output_type": "stream",
     "text": [
      "0.9280737008514949 0.10982645680157181\n"
     ]
    }
   ],
   "source": [
    "from scipy.optimize import fsolve\n",
    "import numpy as np\n",
    "import matplotlib.pyplot as plt\n",
    "import warnings\n",
    "warnings.filterwarnings('ignore')\n",
    "import math\n",
    "\n",
    "n = 200\n",
    "# Задаем рандомное распределение точек\n",
    "xi = np.random.uniform(-8, 8, n)\n",
    "yi = 1/(1+np.exp(-np.random.uniform(0.5, 1.5, n)*xi-np.random.uniform(-1, 1, n)))\n",
    "\n",
    "\n",
    "def equations(p):\n",
    "    a, b = p\n",
    "    u_a = ((yi - np.exp(a*xi + b) / (np.exp(a*xi + b) + 1)) * ((xi*np.exp(a*xi + b)) / (np.exp(a*xi + b) + 1)**2)).sum()\n",
    "    u_b = ((yi - np.exp(a*xi + b) / (np.exp(a*xi + b) + 1)) * (np.exp(a*xi + b) / (np.exp(a*xi + b) + 1)**2)).sum()\n",
    "        \n",
    "    return (u_a, u_b)\n",
    "\n",
    "\n",
    "# Численное решение системы уравнений\n",
    "a, b =  fsolve(equations, (0, 0))\n",
    "print (a, b)"
   ]
  },
  {
   "cell_type": "markdown",
   "metadata": {},
   "source": [
    "Вычислим значение коэффициента корреляции:\n",
    "\n",
    "$$r=\\sqrt{\\frac{\\sum\\limits_{i=1}^n(y_{i}-\\overline y)^2-\\sum\\limits_{i=1}^n(y_{i}-y(x_{i}))^2}{\\sum\\limits_{i=1}^n(y_{i}-\\overline y)^2}}$$"
   ]
  },
  {
   "cell_type": "code",
   "execution_count": 20,
   "metadata": {},
   "outputs": [
    {
     "data": {
      "text/plain": [
       "0.9874133472524826"
      ]
     },
     "execution_count": 20,
     "metadata": {},
     "output_type": "execute_result"
    }
   ],
   "source": [
    "mean_y = yi.sum() / n\n",
    "\n",
    "r = np.sqrt((((yi - mean_y)**2).sum()-((yi - (1 / (1 + 1 / np.exp(a*xi + b))))**2).sum())/((yi - mean_y)**2).sum())\n",
    "r"
   ]
  },
  {
   "cell_type": "code",
   "execution_count": 21,
   "metadata": {},
   "outputs": [
    {
     "data": {
      "image/png": "[encoded data removed]",
      "text/plain": [
       "<Figure size 432x288 with 1 Axes>"
      ]
     },
     "metadata": {
      "needs_background": "light"
     },
     "output_type": "display_data"
    }
   ],
   "source": [
    "plt.plot(xi,yi, marker=\"o\", ls=\"\")\n",
    "\n",
    "x = np.linspace(-8, 8, n)\n",
    "plt.plot(x, 1 / (1 + 1 / np.exp(a*x + b)), color=\"r\")\n",
    "\n",
    "plt.show()"
   ]
  },
  {
   "cell_type": "code",
   "execution_count": null,
   "metadata": {},
   "outputs": [],
   "source": []
  }
 ],
 "metadata": {
  "kernelspec": {
   "display_name": "Python 3",
   "language": "python",
   "name": "python3"
  },
  "language_info": {
   "codemirror_mode": {
    "name": "ipython",
    "version": 3
   },
   "file_extension": ".py",
   "mimetype": "text/x-python",
   "name": "python",
   "nbconvert_exporter": "python",
   "pygments_lexer": "ipython3",
   "version": "3.7.3"
  }
 },
 "nbformat": 4,
 "nbformat_minor": 2
}
