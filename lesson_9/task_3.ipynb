{
 "cells": [
  {
   "cell_type": "markdown",
   "metadata": {},
   "source": [
    "__3.__ Вычислить определенный интеграл\n",
    "\n",
    "### $$\\int\\limits_0^{\\ln2} xe^{-x}\\,dx$$"
   ]
  },
  {
   "cell_type": "markdown",
   "metadata": {},
   "source": [
    "$$\\int\\limits_0^{\\ln2} xe^{-x}\\,dx$$\n",
    "\n",
    "Интегрируем по частям: пусть $U = x, dU = dx$, тогда $dV = e^{-x}, V = -e^{-x}$. Получаем:\n",
    "\n",
    "$$\\int\\limits_0^{\\ln2} xe^{-x}\\,dx = \\Bigr(-xe^{-x}\\Bigl)\\bigg|_0^{\\ln2} + \\int\\limits_0^{\\ln2} e^{-x}\\,dx = -\\frac{\\ln2}{2} - e^{-x}\\bigg|_0^{\\ln2} = -\\frac{\\ln2}{2} - \\Bigl(\\frac{1}{2} - 1\\Bigr) = \\frac{1 - \\ln2}{2}$$"
   ]
  },
  {
   "cell_type": "code",
   "execution_count": 1,
   "metadata": {},
   "outputs": [
    {
     "data": {
      "image/png": "[encoded data removed]",
      "text/latex": [
       "$\\displaystyle x e^{- x}$"
      ],
      "text/plain": [
       "   -x\n",
       "x⋅ℯ  "
      ]
     },
     "execution_count": 1,
     "metadata": {},
     "output_type": "execute_result"
    }
   ],
   "source": [
    "from sympy import *\n",
    "import math\n",
    "import warnings\n",
    "warnings.filterwarnings(\"ignore\")\n",
    "init_printing()\n",
    "\n",
    "x = Symbol('x')\n",
    "f = x*E**(-x)\n",
    "f"
   ]
  },
  {
   "cell_type": "code",
   "execution_count": 2,
   "metadata": {},
   "outputs": [
    {
     "data": {
      "image/png": "[encoded data removed]",
      "text/latex": [
       "$\\displaystyle 0.153426409720027$"
      ],
      "text/plain": [
       "0.153426409720027"
      ]
     },
     "execution_count": 2,
     "metadata": {},
     "output_type": "execute_result"
    }
   ],
   "source": [
    "integrate(f, (x, 0, math.log(2)))"
   ]
  },
  {
   "cell_type": "code",
   "execution_count": 4,
   "metadata": {},
   "outputs": [
    {
     "name": "stdout",
     "output_type": "stream",
     "text": [
      "Численное решение: (0.15342640972002733, 1.7033753265674727e-15)\n",
      "Аналитическое: 0.15342640972002736\n"
     ]
    }
   ],
   "source": [
    "from scipy import integrate\n",
    "\n",
    "func = lambda x: x*math.e**(-x)\n",
    "sc_solve = integrate.quad(func, 0, math.log(2))\n",
    "math_solve = (1 - math.log(2)) / 2\n",
    "print(f\"Численное решение: {sc_solve}\\nАналитическое: {math_solve}\")"
   ]
  },
  {
   "cell_type": "code",
   "execution_count": null,
   "metadata": {},
   "outputs": [],
   "source": []
  }
 ],
 "metadata": {
  "kernelspec": {
   "display_name": "Python 3",
   "language": "python",
   "name": "python3"
  },
  "language_info": {
   "codemirror_mode": {
    "name": "ipython",
    "version": 3
   },
   "file_extension": ".py",
   "mimetype": "text/x-python",
   "name": "python",
   "nbconvert_exporter": "python",
   "pygments_lexer": "ipython3",
   "version": "3.7.3"
  }
 },
 "nbformat": 4,
 "nbformat_minor": 2
}
