{
 "cells": [
  {
   "cell_type": "markdown",
   "metadata": {},
   "source": [
    "__2.__ Вычислить неопределенный интеграл\n",
    "\n",
    "### $$\\int e^{2x}\\cos 3x\\,dx$$"
   ]
  },
  {
   "cell_type": "markdown",
   "metadata": {},
   "source": [
    "$$\\int e^{2x}\\cos 3x\\,dx$$\n",
    "\n",
    "Интегрируем по частям: пусть $U = \\cos(3x), dU = -3\\cdot\\sin(3x)\\,dx$, тогда $dV = e^{2x}\\,dx, V = \\frac{e^{2x}}{2}$. Получаем:\n",
    "\n",
    "$$\\int e^{2x}\\cos 3x\\,dx = \\cos(3x)\\cdot\\frac{e^{2x}}{2} + 3\\int \\frac{e^{2x}}{2}\\cdot\\sin(3x)\\,dx$$\n",
    "\n",
    "Снова интегрируем по частям: $U = \\frac{\\sin(3x)}{2}, dU = 3\\cdot\\frac{\\cos(3x)}{2}\\,dx$ и $dV = e^{2x}\\,dx, V = \\frac{e^{2x}}{2}$. Тогда:\n",
    "\n",
    "$$\\int e^{2x}\\cos 3x\\,dx = \\cos(3x)\\cdot\\frac{e^{2x}}{2} + 3\\cdot\\frac{\\sin(3x)}{2}\\cdot\\frac{e^{2x}}{2} - 9\\int \\frac{e^{2x}}{2}\\cdot\\frac{\\cos(3x)}{2}\\,dx$$\n",
    "\n",
    "Переносим интеграл с косинусом в одну сторону и получим:\n",
    "\n",
    "$$\\int e^{2x}\\cos 3x\\,dx + \\frac{9}{4}\\int e^{2x}\\cdot\\cos(3x)\\,dx = \\cos(3x)\\cdot\\frac{e^{2x}}{2} + 3\\cdot\\frac{\\sin(3x)}{2}\\cdot\\frac{e^{2x}}{2}$$\n",
    "\n",
    "$$\\frac{13}{4}\\int e^{2x}\\cos 3x\\,dx = \\frac{\\cos(3x)\\cdot e^{2x}}{2} + \\frac{3\\sin(3x)\\cdot e^{2x}}{4}$$\n",
    "\n",
    "$$\\int e^{2x}\\cos 3x\\,dx = \\frac{2\\cos(3x)\\cdot e^{2x}}{13} + \\frac{3\\sin(3x)\\cdot e^{2x}}{13} + С$$"
   ]
  },
  {
   "cell_type": "code",
   "execution_count": 2,
   "metadata": {},
   "outputs": [
    {
     "data": {
      "image/png": "[encoded data removed]",
      "text/latex": [
       "$\\displaystyle e^{2 x} \\cos{\\left(3 x \\right)}$"
      ],
      "text/plain": [
       " 2⋅x         \n",
       "ℯ   ⋅cos(3⋅x)"
      ]
     },
     "execution_count": 2,
     "metadata": {},
     "output_type": "execute_result"
    }
   ],
   "source": [
    "from sympy import *\n",
    "import warnings\n",
    "warnings.filterwarnings(\"ignore\")\n",
    "init_printing()\n",
    "\n",
    "x = Symbol('x')\n",
    "f = E**(2*x)*cos(3*x)\n",
    "f"
   ]
  },
  {
   "cell_type": "code",
   "execution_count": 3,
   "metadata": {},
   "outputs": [
    {
     "data": {
      "image/png": "[encoded data removed]",
      "text/latex": [
       "$\\displaystyle \\frac{3 e^{2 x} \\sin{\\left(3 x \\right)}}{13} + \\frac{2 e^{2 x} \\cos{\\left(3 x \\right)}}{13}$"
      ],
      "text/plain": [
       "   2⋅x               2⋅x         \n",
       "3⋅ℯ   ⋅sin(3⋅x)   2⋅ℯ   ⋅cos(3⋅x)\n",
       "─────────────── + ───────────────\n",
       "       13                13      "
      ]
     },
     "execution_count": 3,
     "metadata": {},
     "output_type": "execute_result"
    }
   ],
   "source": [
    "integrate(f, x)"
   ]
  },
  {
   "cell_type": "code",
   "execution_count": null,
   "metadata": {},
   "outputs": [],
   "source": []
  }
 ],
 "metadata": {
  "kernelspec": {
   "display_name": "Python 3",
   "language": "python",
   "name": "python3"
  },
  "language_info": {
   "codemirror_mode": {
    "name": "ipython",
    "version": 3
   },
   "file_extension": ".py",
   "mimetype": "text/x-python",
   "name": "python",
   "nbconvert_exporter": "python",
   "pygments_lexer": "ipython3",
   "version": "3.7.3"
  }
 },
 "nbformat": 4,
 "nbformat_minor": 2
}
