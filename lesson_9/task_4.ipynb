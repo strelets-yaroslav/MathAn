{
 "cells": [
  {
   "cell_type": "markdown",
   "metadata": {},
   "source": [
    "__4.__ Вычислить несобственный интеграл\n",
    "\n",
    "### $$\\int\\limits_2^{+\\infty} \\frac{dx}{x^2+x-2}$$"
   ]
  },
  {
   "cell_type": "markdown",
   "metadata": {},
   "source": [
    "$$\\int\\limits_2^{+\\infty} \\frac{dx}{x^2+x-2}$$\n",
    "\n",
    "Т.к. $x^2 + x - 2 = (x - 1)(x + 2)$, то сначала решаем методом неопределённых коэффициентов:\n",
    "\n",
    "$$\\frac{1}{(x - 1)(x + 2)} = \\frac{A}{x - 1} + \\frac{B}{x + 2} = \\frac{x(A + B) + (5A - 2B)}{(x - 2)(x + 5)}$$\n",
    "\n",
    "$$\\begin{cases}\n",
    "   A + B = 0 \\\\\n",
    "   2A - B = 1\n",
    " \\end{cases}\\,\\,\\,\\,\\,\\Rightarrow\\,\\,\\,\\,\\, \n",
    " \\begin{cases}\n",
    "   A = \\frac{1}{3} \\\\\n",
    "   B = -\\frac{1}{3}\n",
    " \\end{cases}$$\n",
    " \n",
    "Тогда\n",
    "\n",
    "$$\\int \\frac{dx}{x^2 + x - 2} = \\frac{1}{3}\\Bigl(\\int \\frac{dx}{x - 1} - \\int \\frac{dx}{x + 2}\\Bigr)$$\n",
    "\n",
    "Верхнюю границу интеграла вычислим через предел:\n",
    "\n",
    "$$\\int\\limits_2^{+\\infty} \\frac{dx}{x^2 + x - 2} = \\frac{1}{3}\\Bigl(\\lim_{b\\to +\\infty}\\int\\limits_2^b \\frac{dx}{x - 1} - \\lim_{b\\to +\\infty}\\int\\limits_2^b \\frac{dx}{x + 2}\\Bigr) = \\frac{1}{3}\\Bigl(\\lim_{b\\to +\\infty}\\ln|b - 1| - ln|2 - 1| - \\lim_{b\\to +\\infty}\\ln|b + 2| + ln|2 + 2|\\Bigr) = \\frac{1}{3}\\Bigl(\\lim_{b\\to +\\infty}(\\ln|b - 1| - \\ln|b + 2|) - 0 + \\ln4\\Bigr) = \\frac{1}{3}\\Bigl(\\lim_{b\\to +\\infty}\\Bigl(\\ln\\frac{b - 1}{b + 2}\\Bigr) + \\ln4\\Bigr) = \\frac{1}{3}\\Bigl(\\lim_{b\\to +\\infty}\\Bigl(\\ln\\frac{1 - \\frac{1}{b}}{1 + \\frac{2}{b}}\\Bigr) + \\ln4\\Bigr) = \\frac{1}{3}\\Bigl(\\ln\\frac{1}{1} + \\ln4\\Bigr) = \\frac{ln4}{3}$$"
   ]
  },
  {
   "cell_type": "code",
   "execution_count": 1,
   "metadata": {},
   "outputs": [
    {
     "data": {
      "image/png": "[encoded data removed]",
      "text/latex": [
       "$\\displaystyle \\frac{1}{x^{2} + x - 2}$"
      ],
      "text/plain": [
       "    1     \n",
       "──────────\n",
       " 2        \n",
       "x  + x - 2"
      ]
     },
     "execution_count": 1,
     "metadata": {},
     "output_type": "execute_result"
    }
   ],
   "source": [
    "from sympy import *\n",
    "import math\n",
    "import warnings\n",
    "warnings.filterwarnings(\"ignore\")\n",
    "init_printing()\n",
    "\n",
    "x = Symbol('x')\n",
    "f = 1 / (x**2 + x - 2)\n",
    "f"
   ]
  },
  {
   "cell_type": "code",
   "execution_count": 2,
   "metadata": {},
   "outputs": [
    {
     "data": {
      "image/png": "[encoded data removed]",
      "text/latex": [
       "$\\displaystyle \\frac{\\log{\\left(4 \\right)}}{3}$"
      ],
      "text/plain": [
       "log(4)\n",
       "──────\n",
       "  3   "
      ]
     },
     "execution_count": 2,
     "metadata": {},
     "output_type": "execute_result"
    }
   ],
   "source": [
    "integrate(f, (x, 2, +oo))"
   ]
  },
  {
   "cell_type": "code",
   "execution_count": 3,
   "metadata": {},
   "outputs": [
    {
     "name": "stdout",
     "output_type": "stream",
     "text": [
      "Численное решение: (0.4620981203732969, 8.305488729935715e-11)\n",
      "Аналитическое: 0.46209812037329684\n"
     ]
    }
   ],
   "source": [
    "from scipy import integrate\n",
    "\n",
    "func = lambda x: 1 / (x**2 + x - 2)\n",
    "sc_solve = integrate.quad(func, 2, math.inf)\n",
    "math_solve = math.log(4) / 3\n",
    "print(f\"Численное решение: {sc_solve}\\nАналитическое: {math_solve}\")"
   ]
  },
  {
   "cell_type": "code",
   "execution_count": null,
   "metadata": {},
   "outputs": [],
   "source": []
  }
 ],
 "metadata": {
  "kernelspec": {
   "display_name": "Python 3",
   "language": "python",
   "name": "python3"
  },
  "language_info": {
   "codemirror_mode": {
    "name": "ipython",
    "version": 3
   },
   "file_extension": ".py",
   "mimetype": "text/x-python",
   "name": "python",
   "nbconvert_exporter": "python",
   "pygments_lexer": "ipython3",
   "version": "3.7.3"
  }
 },
 "nbformat": 4,
 "nbformat_minor": 2
}
