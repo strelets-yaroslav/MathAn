{
 "cells": [
  {
   "cell_type": "markdown",
   "metadata": {},
   "source": [
    "__5*.__ Вычислить несобственный интеграл\n",
    "\n",
    "### $$\\int\\limits_0^{1} \\ln x\\,dx$$"
   ]
  },
  {
   "cell_type": "markdown",
   "metadata": {},
   "source": [
    "$$\\int\\limits_0^{1} \\ln x\\,dx$$\n",
    "\n",
    "Решим сначала неопределённый интеграл. Интегрируем по частям: пусть $U = \\ln x, dU = \\frac{dx}{x}$, тогда $dV = dx, V = x$. Получаем:\n",
    "\n",
    "$$\\int \\ln x\\,dx = x\\ln x - \\int x\\cdot\\frac{dx}{x} = x\\ln x - x + C = F$$\n",
    "\n",
    "Учитывая, что $\\ln0 = -\\infty$, выражаем через предел для нижней границы:\n",
    "\n",
    "$$\\int\\limits_0^{1} \\ln x\\,dx = F(1) - \\lim_{\\varepsilon\\to 0}F(0 + \\varepsilon) = 1\\ln1 - 1 - \\lim_{\\varepsilon\\to 0}(\\varepsilon\\ln\\varepsilon - \\varepsilon) = -1 - \\lim_{\\varepsilon\\to 0}(\\varepsilon(\\ln\\varepsilon - 1))$$\n",
    "\n",
    "В пределе имеем неопределённость $0\\cdot -\\infty$. Преобразуем выражение в пределе следующим образом: $\\lim_{\\varepsilon\\to 0}(\\varepsilon(\\ln\\varepsilon - 1)) = \\lim_{\\varepsilon\\to 0}\\frac{\\ln\\varepsilon - 1}{\\varepsilon^{-1}}$. Теперь имеем неопределённость $\\frac{-\\infty}{+\\infty}$ (в знаменателе $+\\infty$, т.к. мы приближаемся к 0 справа) - применяем правило Лопиталя:\n",
    "\n",
    "$$\\lim_{\\varepsilon\\to 0}\\frac{\\ln\\varepsilon - 1}{\\varepsilon^{-1}} = \\lim_{\\varepsilon\\to 0}\\frac{(\\ln\\varepsilon - 1)'}{(\\varepsilon^{-1})'} = \\lim_{\\varepsilon\\to 0}\\frac{\\frac{1}{\\varepsilon}}{-\\varepsilon^{-2}} = -\\lim_{\\varepsilon\\to 0}\\frac{1}{\\varepsilon^{-1}} = -\\lim_{\\varepsilon\\to 0}\\varepsilon = 0$$\n",
    "\n",
    "Соответственно,\n",
    "\n",
    "$$\\int\\limits_0^{1} \\ln x\\,dx = -1 - \\lim_{\\varepsilon\\to 0}(\\varepsilon(\\ln\\varepsilon - 1)) = -1$$"
   ]
  },
  {
   "cell_type": "code",
   "execution_count": 4,
   "metadata": {},
   "outputs": [
    {
     "data": {
      "image/png": "[encoded data removed]",
      "text/latex": [
       "$\\displaystyle \\log{\\left(x \\right)}$"
      ],
      "text/plain": [
       "log(x)"
      ]
     },
     "execution_count": 4,
     "metadata": {},
     "output_type": "execute_result"
    }
   ],
   "source": [
    "from sympy import *\n",
    "import math\n",
    "import warnings\n",
    "warnings.filterwarnings(\"ignore\")\n",
    "init_printing()\n",
    "\n",
    "x = Symbol('x')\n",
    "f = log(x)\n",
    "f"
   ]
  },
  {
   "cell_type": "code",
   "execution_count": 5,
   "metadata": {},
   "outputs": [
    {
     "data": {
      "image/png": "[encoded data removed]",
      "text/latex": [
       "$\\displaystyle -1$"
      ],
      "text/plain": [
       "-1"
      ]
     },
     "execution_count": 5,
     "metadata": {},
     "output_type": "execute_result"
    }
   ],
   "source": [
    "integrate(f, (x, 0, 1))"
   ]
  },
  {
   "cell_type": "code",
   "execution_count": 6,
   "metadata": {},
   "outputs": [
    {
     "name": "stdout",
     "output_type": "stream",
     "text": [
      "Численное решение: (-0.9999999999999999, 1.1102230246251563e-15)\n"
     ]
    }
   ],
   "source": [
    "from scipy import integrate\n",
    "\n",
    "func = lambda x: math.log(x)\n",
    "sc_solve = integrate.quad(func, 0, 1)\n",
    "print(f\"Численное решение: {sc_solve}\")"
   ]
  },
  {
   "cell_type": "code",
   "execution_count": null,
   "metadata": {},
   "outputs": [],
   "source": []
  }
 ],
 "metadata": {
  "kernelspec": {
   "display_name": "Python 3",
   "language": "python",
   "name": "python3"
  },
  "language_info": {
   "codemirror_mode": {
    "name": "ipython",
    "version": 3
   },
   "file_extension": ".py",
   "mimetype": "text/x-python",
   "name": "python",
   "nbconvert_exporter": "python",
   "pygments_lexer": "ipython3",
   "version": "3.7.3"
  }
 },
 "nbformat": 4,
 "nbformat_minor": 2
}
