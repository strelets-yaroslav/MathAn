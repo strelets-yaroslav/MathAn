{
 "cells": [
  {
   "cell_type": "markdown",
   "metadata": {},
   "source": [
    "__1.__ Представьте в виде __несократимой__ рациональной дроби:\n",
    "\n",
    "$$а)\\,\\,\\, 0.(216);$$\n",
    "$$б)\\,\\,\\, 1.0(01).$$"
   ]
  },
  {
   "cell_type": "markdown",
   "metadata": {},
   "source": [
    "$$а)\\,\\,\\, 0.(216);$$\n",
    "\n",
    "$$x = 0.(216)\\,\\,->\\,\\,1000*x = 216 + 0.(216)\\,\\,->\\,\\,999*x = 216\\,\\,->\\,\\,x = \\frac{216}{999}\\,\\,->\\,\\,x = \\frac{8}{37}$$"
   ]
  },
  {
   "cell_type": "code",
   "execution_count": 1,
   "metadata": {},
   "outputs": [
    {
     "data": {
      "text/plain": [
       "0.21621621621621623"
      ]
     },
     "execution_count": 1,
     "metadata": {},
     "output_type": "execute_result"
    }
   ],
   "source": [
    "8/37"
   ]
  },
  {
   "cell_type": "markdown",
   "metadata": {},
   "source": [
    "$$б)\\,\\,\\, 1.0(01).$$\n",
    "\n",
    "$$a = 1.0(01)\\,\\,->\\,\\,10*a = 10 + 0.(01)$$\n",
    "\n",
    "$$b = 0.(01)\\,\\,->\\,\\,100*b = 1 + 0.(01)\\,\\,->\\,\\,b = \\frac{1}{99}$$\n",
    "\n",
    "$$10*a = 10 + \\frac{1}{99}\\,\\,->\\,\\,a = 1 + \\frac{1}{990}\\,\\,->\\,\\,a = \\frac{991}{990}$$"
   ]
  },
  {
   "cell_type": "code",
   "execution_count": 3,
   "metadata": {},
   "outputs": [
    {
     "data": {
      "text/plain": [
       "1.001010101010101"
      ]
     },
     "execution_count": 3,
     "metadata": {},
     "output_type": "execute_result"
    }
   ],
   "source": [
    "991/990"
   ]
  }
 ],
 "metadata": {
  "kernelspec": {
   "display_name": "Python 3",
   "language": "python",
   "name": "python3"
  },
  "language_info": {
   "codemirror_mode": {
    "name": "ipython",
    "version": 3
   },
   "file_extension": ".py",
   "mimetype": "text/x-python",
   "name": "python",
   "nbconvert_exporter": "python",
   "pygments_lexer": "ipython3",
   "version": "3.7.3"
  }
 },
 "nbformat": 4,
 "nbformat_minor": 2
}
