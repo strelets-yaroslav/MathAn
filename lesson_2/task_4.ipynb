{
 "cells": [
  {
   "cell_type": "markdown",
   "metadata": {},
   "source": [
    "__4.__ Сформулируйте словесно высказывания:\n",
    "### $$a)\\,\\,\\, (\\overline A \\vee B) \\rightarrow \\overline C$$\n",
    "### $$б)\\,\\,\\, C \\rightarrow (A \\vee \\overline B)$$\n",
    "\n",
    "- $A:\\,\\,\\,$ сегодня светит солнце; \n",
    "- $B:\\,\\,\\,$ сегодня сыро; \n",
    "- $C:\\,\\,\\,$ я поеду на дачу. "
   ]
  },
  {
   "cell_type": "markdown",
   "metadata": {},
   "source": [
    "$$a)\\,\\,\\, (\\overline A \\vee B) \\rightarrow \\overline C$$\n",
    "\n",
    "Если сегодня не светит солнце или сегодня сыро, то я не поеду на дачу."
   ]
  },
  {
   "cell_type": "markdown",
   "metadata": {},
   "source": [
    "$$б)\\,\\,\\, C \\rightarrow (A \\vee \\overline B)$$\n",
    "\n",
    "Если я поеду на дачу, значит сегодня светит солнце или сегодня не сыро."
   ]
  }
 ],
 "metadata": {
  "kernelspec": {
   "display_name": "Python 3",
   "language": "python",
   "name": "python3"
  },
  "language_info": {
   "codemirror_mode": {
    "name": "ipython",
    "version": 3
   },
   "file_extension": ".py",
   "mimetype": "text/x-python",
   "name": "python",
   "nbconvert_exporter": "python",
   "pygments_lexer": "ipython3",
   "version": "3.7.3"
  }
 },
 "nbformat": 4,
 "nbformat_minor": 2
}
