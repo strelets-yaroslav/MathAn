{
 "cells": [
  {
   "cell_type": "markdown",
   "metadata": {},
   "source": [
    "__6*.__ Прочитайте высказывания, установите их истинность и постройте противоположное высказывание:\n",
    "\n",
    "### $$a)\\,\\,\\, \\forall x\\in\\mathbb{R}\\,\\,\\,\\exists X\\in\\mathbb{R}:\\,\\,\\, X>x;$$\n",
    "### $$б)\\,\\,\\, \\forall y\\in\\Bigl[0; \\frac{\\pi}{2}\\Bigr]\\,\\,\\,\\exists \\varepsilon>0:\\,\\,\\, \\sin y<\\sin(y+\\varepsilon);$$\n",
    "### $$в)\\,\\,\\, \\forall y\\in\\Bigl[0; \\pi\\Bigr)\\,\\,\\,\\exists \\varepsilon>0:\\,\\,\\, \\cos y>\\cos(y+\\varepsilon).$$"
   ]
  },
  {
   "cell_type": "markdown",
   "metadata": {},
   "source": [
    "$$a)\\,\\,\\, \\forall x\\in\\mathbb{R}\\,\\,\\,\\exists X\\in\\mathbb{R}:\\,\\,\\, X>x$$\n",
    "\n",
    "Для любого вещественного $x$ существует вещественный $X$ такой, что $ Х > х $. Выражение является истинным: $\\mathbb{R} = (-\\infty, +\\infty)$.\n",
    "\n",
    "$$\\,\\,\\, \\exists x\\in\\mathbb{R}\\,такой,\\,что\\,\\,\\forall X\\in\\mathbb{R}:\\,\\,\\, X\\leq x$$\n",
    "\n",
    "Существует такой вещественный $x$, что для любого вещественного $X$ выполняется неравенство $X$ $ \\leq x $. Это выражение уже не является истинным: $x$ тогда должен быть больше или равен $+\\infty$ для выполнения неравенства."
   ]
  },
  {
   "cell_type": "markdown",
   "metadata": {},
   "source": [
    "$$б)\\,\\,\\, \\forall y\\in\\Bigl[0; \\frac{\\pi}{2}\\Bigr]\\,\\,\\,\\exists \\varepsilon>0:\\,\\,\\, \\sin y<\\sin(y+\\varepsilon)$$\n",
    "\n",
    "Для любого $y$, лежащего на отрезке от 0 до $\\frac{\\pi}{2}$, существует $\\varepsilon$, больший 0, такой, что $\\sin y<\\sin(y+\\varepsilon)$. Выражение является истинным: синус на данном отрезке возрастает от 0 до 1.\n",
    "\n",
    "$$\\,\\,\\, \\exists y\\in\\Bigl[0; \\frac{\\pi}{2}\\Bigr]\\,такой,\\,что\\,\\,\\forall \\varepsilon>0:\\,\\,\\, \\sin y\\geq\\sin(y+\\varepsilon)$$\n",
    "\n",
    "Существует такой $y$, лежащий на отрезке от 0 до $\\frac{\\pi}{2}$, что для любого $\\varepsilon$, большего 0, выполняется неравенство $\\sin y\\geq\\sin(y+\\varepsilon)$. Данное выражение не является истинным."
   ]
  },
  {
   "cell_type": "markdown",
   "metadata": {},
   "source": [
    "$$в)\\,\\,\\, \\forall y\\in\\Bigl[0; \\pi\\Bigr)\\,\\,\\,\\exists \\varepsilon>0:\\,\\,\\, \\cos y>\\cos(y+\\varepsilon)$$\n",
    "\n",
    "Для любого $y$ из полуинтервала от 0 до $\\pi$, открытого справа, существует $\\varepsilon$, больший 0, такой, что $\\cos y>\\cos(y+\\varepsilon)$. Выражение является истинным: косинус на данном отрезке убывает от 1 до -1.\n",
    "\n",
    "$$\\,\\,\\, \\exists y\\in\\Bigl[0; \\pi\\Bigr)\\,такой,\\,что\\,\\,\\forall \\varepsilon>0:\\,\\,\\, \\cos y\\leq\\cos(y+\\varepsilon)$$\n",
    "\n",
    "Существует такой $y$, лежащий в полуинтервале от 0 до $\\pi$, открытом справа, что для любого $\\varepsilon$, большего 0, выполняется неравенство $\\cos y\\leq\\cos(y+\\varepsilon)$. Данное выражение не является истинным."
   ]
  }
 ],
 "metadata": {
  "kernelspec": {
   "display_name": "Python 3",
   "language": "python",
   "name": "python3"
  },
  "language_info": {
   "codemirror_mode": {
    "name": "ipython",
    "version": 3
   },
   "file_extension": ".py",
   "mimetype": "text/x-python",
   "name": "python",
   "nbconvert_exporter": "python",
   "pygments_lexer": "ipython3",
   "version": "3.7.3"
  }
 },
 "nbformat": 4,
 "nbformat_minor": 2
}
