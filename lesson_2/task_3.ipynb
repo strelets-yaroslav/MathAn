{
 "cells": [
  {
   "cell_type": "markdown",
   "metadata": {},
   "source": [
    "__3.__ Проверьте любым способ, является ли данные логические формулы тавтологией:\n",
    "\n",
    "$$a)\\,\\,\\, (A \\vee B) \\rightarrow (B \\vee\\overline A)$$\n",
    "$$б)\\,\\,\\, A \\rightarrow (A \\vee (\\overline B \\wedge A))$$"
   ]
  },
  {
   "cell_type": "markdown",
   "metadata": {},
   "source": [
    "$$a)\\,\\,\\, (A \\vee B) \\rightarrow (B \\vee\\overline A)$$\n",
    "\n",
    "<table>\n",
    "    <thead>\n",
    "        <tr><th>$A$</th><th>$B$</th><th>$(A\\vee B)$</th><th>$\\overline A$</th><th>$(B\\vee\\overline A)$</th></tr>\n",
    "    </thead>\n",
    "    <tbody>\n",
    "        <tr><td>$0$</td><td>$0$</td><td>$0$</td><td>$1$</td><td>$1$</td></tr>\n",
    "        <tr><td>$0$</td><td>$1$</td><td>$1$</td><td>$1$</td><td>$1$</td></tr>\n",
    "        <tr><td>$1$</td><td>$0$</td><td>$1$</td><td>$0$</td><td>$0$</td></tr>\n",
    "        <tr><td>$1$</td><td>$1$</td><td>$1$</td><td>$0$</td><td>$1$</td></tr>\n",
    "    </tbody>\n",
    "</table>\n",
    "\n",
    "Третий $(A\\vee B)$ и последний $(B\\vee\\overline A)$ столбцы не совпадают -> не тавтология."
   ]
  },
  {
   "cell_type": "markdown",
   "metadata": {},
   "source": [
    "$$б)\\,\\,\\, A \\rightarrow (A \\vee (\\overline B \\wedge A))$$\n",
    "\n",
    "<table>\n",
    "    <thead>\n",
    "        <tr><th>$A$</th><th>$B$</th><th>$\\overline B$</th><th>$(\\overline B \\wedge A)$</th><th>$(A \\vee (\\overline B \\wedge A))$</th></tr>\n",
    "    </thead>\n",
    "    <tbody>\n",
    "        <tr><td>$0$</td><td>$0$</td><td>$1$</td><td>$0$</td><td>$0$</td></tr>\n",
    "        <tr><td>$0$</td><td>$1$</td><td>$0$</td><td>$0$</td><td>$0$</td></tr>\n",
    "        <tr><td>$1$</td><td>$0$</td><td>$1$</td><td>$1$</td><td>$1$</td></tr>\n",
    "        <tr><td>$1$</td><td>$1$</td><td>$0$</td><td>$0$</td><td>$1$</td></tr>\n",
    "    </tbody>\n",
    "</table>\n",
    "\n",
    "Первый столбец $А$ и последний $(A \\vee (\\overline B \\wedge A))$ совпадают -> тавтология."
   ]
  }
 ],
 "metadata": {
  "kernelspec": {
   "display_name": "Python 3",
   "language": "python",
   "name": "python3"
  },
  "language_info": {
   "codemirror_mode": {
    "name": "ipython",
    "version": 3
   },
   "file_extension": ".py",
   "mimetype": "text/x-python",
   "name": "python",
   "nbconvert_exporter": "python",
   "pygments_lexer": "ipython3",
   "version": "3.7.3"
  }
 },
 "nbformat": 4,
 "nbformat_minor": 2
}
