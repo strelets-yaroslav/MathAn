{
 "cells": [
  {
   "cell_type": "markdown",
   "metadata": {},
   "source": [
    "__2*.__ Пусть $x =\\frac{2}{21}$. Известно, что для некоторого натурального $k$ число $x$ записывается в $k$ - ичной системе счисления как $0.(13)_k = 0, 131313..._k$. Найдите $k$."
   ]
  },
  {
   "cell_type": "markdown",
   "metadata": {},
   "source": [
    "$$x = 0.(13)_k\\,\\,->\\,\\,k^2*x = 13_k + 0.(13)\\,\\,->\\,\\,k^2*x = k + 3 + x\\,\\,->\\,\\,k^2*\\frac{2}{21} - k - 3 - \\frac{2}{21}\\,\\,->\\,\\,2*k^2 - 21*k - 65 = 0$$\n",
    "\n",
    "$$D = (-21)^2 - 4*2*(-65) = 441 + 520 = 961$$\n",
    "\n",
    "$$k_{1,2} = \\frac{21 \\pm \\sqrt{961}}{2*2} = \\frac{21 \\pm 31}{4}$$\n",
    "\n",
    "т.к. $k \\in \\mathbb{N}$ и $k > 3$ (исходя из текущего максимального числа в $k$-ичной системе), то $k = \\frac{21 + 31}{4} = 13$."
   ]
  },
  {
   "cell_type": "code",
   "execution_count": 1,
   "metadata": {},
   "outputs": [
    {
     "data": {
      "text/plain": [
       "0.09523809523809523"
      ]
     },
     "execution_count": 1,
     "metadata": {},
     "output_type": "execute_result"
    }
   ],
   "source": [
    "2/21"
   ]
  },
  {
   "cell_type": "code",
   "execution_count": 3,
   "metadata": {},
   "outputs": [
    {
     "data": {
      "text/plain": [
       "0.0952380952374044"
      ]
     },
     "execution_count": 3,
     "metadata": {},
     "output_type": "execute_result"
    }
   ],
   "source": [
    "1/13+3/(13**2) + 1/(13**3)+3/(13**4) + 1/(13**5)+3/(13**6) + 1/(13**7)+3/(13**8) + 1/(13**9)+3/(13**10)"
   ]
  }
 ],
 "metadata": {
  "kernelspec": {
   "display_name": "Python 3",
   "language": "python",
   "name": "python3"
  },
  "language_info": {
   "codemirror_mode": {
    "name": "ipython",
    "version": 3
   },
   "file_extension": ".py",
   "mimetype": "text/x-python",
   "name": "python",
   "nbconvert_exporter": "python",
   "pygments_lexer": "ipython3",
   "version": "3.7.3"
  }
 },
 "nbformat": 4,
 "nbformat_minor": 2
}
