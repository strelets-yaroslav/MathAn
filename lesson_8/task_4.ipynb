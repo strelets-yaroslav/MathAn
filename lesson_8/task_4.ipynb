{
 "cells": [
  {
   "cell_type": "markdown",
   "metadata": {},
   "source": [
    "__4*.__ Численно найти все $5$ действительных корней:\n",
    "### $$\\begin{cases}\n",
    "   x^2-y^2+3xy^3-2x^2y^2+2x-3y-5=0 \\\\\n",
    "   3y^3-2x^2+2x^3y-5x^2y^2+5=0\n",
    " \\end{cases}$$"
   ]
  },
  {
   "cell_type": "code",
   "execution_count": 12,
   "metadata": {},
   "outputs": [
    {
     "name": "stdout",
     "output_type": "stream",
     "text": [
      "{(-3.6530799, -0.2747634), (2.2177536, 0.6101939), (2.4943565, 0.7083175), (1.3756871, -0.1747579), (1.273302, 1.6620391)}\n"
     ]
    }
   ],
   "source": [
    "from scipy.optimize import fsolve, broyden2\n",
    "import numpy as np\n",
    "\n",
    "\n",
    "def equations(p):\n",
    "    x, y = p\n",
    "    return (x**2 - y**2 + 3*x*y**3 - 2*x**2*y**2 + 2*x - 3*y - 5, \n",
    "           3*y**3 - 2*x**2 + 2*x**3*y - 5*x**2*y**2 + 5)\n",
    "\n",
    "\n",
    "solv = set()\n",
    "for x in np.arange (-6, 6, 0.5):\n",
    "    for y in np.arange(-4, 4, 0.5):\n",
    "        s, info, ier, mesg =  fsolve(equations, (x, y), full_output=True)\n",
    "        if ier == 1:\n",
    "            solv.add((int(s[0]*10**7)/10**7, int(s[1]*10**7)/10**7))\n",
    "            \n",
    "print (solv)"
   ]
  },
  {
   "cell_type": "code",
   "execution_count": null,
   "metadata": {},
   "outputs": [],
   "source": []
  }
 ],
 "metadata": {
  "kernelspec": {
   "display_name": "Python 3",
   "language": "python",
   "name": "python3"
  },
  "language_info": {
   "codemirror_mode": {
    "name": "ipython",
    "version": 3
   },
   "file_extension": ".py",
   "mimetype": "text/x-python",
   "name": "python",
   "nbconvert_exporter": "python",
   "pygments_lexer": "ipython3",
   "version": "3.7.3"
  }
 },
 "nbformat": 4,
 "nbformat_minor": 2
}
