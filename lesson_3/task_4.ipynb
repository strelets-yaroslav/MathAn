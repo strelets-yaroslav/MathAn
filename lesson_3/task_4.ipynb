{
 "cells": [
  {
   "cell_type": "markdown",
   "metadata": {},
   "source": [
    "__4.__ Пользуясь критерием Коши, докажите сходимость последовательности:\n",
    "\n",
    "### $$a_n=\\frac{\\sin1}{2}+\\frac{\\sin2}{2^2}+\\frac{\\sin3}{2^3}+..\\frac{\\sin n}{2^n}\\,\\,\\,\\,\\,\\Rightarrow$$\n",
    "\n",
    "### $$\\Bigl\\{a_n\\Bigr\\}_{n=1}^\\infty=\\Bigl\\{\\frac{\\sin1}{2}, \\frac{\\sin1}{2}+\\frac{\\sin2}{2^2}, ..., a_n,...\\Bigr\\}$$\n",
    "\n",
    "\n",
    "$^*$ Какой член последовательности можно взять в качестве предела с точностью $\\varepsilon=10^{-7}$?"
   ]
  },
  {
   "cell_type": "markdown",
   "metadata": {},
   "source": [
    "Рассмотрим $|a_n - a_{n+k}| < \\varepsilon$\n",
    "\n",
    "$$a_n = \\sum_{i=1}^{n} \\frac{sin(i)}{2^i},\\,a_{n+k} = \\sum_{i=1}^{n+k} \\frac{sin(i)}{2^i}$$\n",
    "\n",
    "$$|a_n - a_{n+k}| = |\\sum_{i=1}^{n} \\frac{sin(i)}{2^i} - \\sum_{i=1}^{n+k} \\frac{sin(i)}{2^i} |$$\n",
    "\n",
    "$$|a_n - a_{n+k}| = \\sum_{i=n+1}^{n+k} \\frac{sin(i)}{2^i} < \\sum_{i=n+1}^{n+k} \\frac{1}{2^i}$$\n",
    "\n",
    "$$\\sum_{i=n+1}^{n+k} \\frac{1}{2^i} = \\frac{b_{n+1} - b_{n+k}*q}{1 - q} = \\frac{\\frac{1}{2^{n+1}} - \\frac{1}{2^{n+k}}*\\frac{1}{2}}{1-\\frac{1}{2}} = \\frac{1}{2^n} - \\frac{1}{2^{n+k}} = \\frac{1}{2^n} * (1 - \\frac{1}{2^k}) < \\frac{1}{2^n} = \\varepsilon$$\n",
    "\n",
    "Связь между $N(\\varepsilon)$ существует, значит, ряд сходится."
   ]
  },
  {
   "cell_type": "code",
   "execution_count": 1,
   "metadata": {},
   "outputs": [
    {
     "name": "stdout",
     "output_type": "stream",
     "text": [
      "Основываясь на N(e), индекс члена последовательности должен быть > 23.253496664211536 \n",
      "или при k, равном 1, > 22.253496664211536\n",
      "Численное значение предела: 0.5928377620958291\n",
      " Погрешность: 2.110316588144201e-09\n",
      " Член последовательности: 22\n"
     ]
    }
   ],
   "source": [
    "import numpy as np\n",
    "\n",
    "\n",
    "def func(n):\n",
    "    return np.sin(n) / 2**(n)\n",
    "\n",
    "def sum_n(eps):\n",
    "    lim = 1\n",
    "    n = 1\n",
    "    a2 = func(n)\n",
    "\n",
    "    while lim > eps:\n",
    "        n += 1\n",
    "        a1 = a2\n",
    "        a2 += func(n)\n",
    "        lim = abs(a1 - a2)\n",
    "    \n",
    "    return (a2, lim, n)\n",
    "\n",
    "\n",
    "eps = 1/10**7\n",
    "print(f'Основываясь на N(e), индекс члена последовательности должен быть > {-np.log2(eps)} ' + \n",
    "      f'\\nили при k, равном 1, > {np.log2(1 - 1/2**1) - np.log2(eps)}')\n",
    "(sum1, lim, n) = sum_n(eps)\n",
    "print (f'Численное значение предела: {sum1}\\n',f'Погрешность: {lim}\\n', f'Член последовательности: {n}')"
   ]
  },
  {
   "cell_type": "code",
   "execution_count": 2,
   "metadata": {},
   "outputs": [
    {
     "name": "stdout",
     "output_type": "stream",
     "text": [
      "0.5928376206979427\n",
      "1.4139788639955242e-07\n"
     ]
    }
   ],
   "source": [
    "n = 1\n",
    "sum2 = 0.0\n",
    "while n < 1000:\n",
    "    sum2 += func(n)\n",
    "    n += 1\n",
    "\n",
    "print(sum2)\n",
    "print(abs(sum2 - sum1))"
   ]
  },
  {
   "cell_type": "code",
   "execution_count": 4,
   "metadata": {},
   "outputs": [
    {
     "name": "stdout",
     "output_type": "stream",
     "text": [
      "Основываясь на N(e), индекс члена последовательности должен быть > 29.897352853986263 \n",
      "или при k, равном 1, > 28.897352853986263\n",
      "Численное значение предела: 0.5928376206389043\n",
      " Погрешность: 9.201761574928469e-10\n",
      " Член последовательности: 30\n",
      "0.5928376206979427\n",
      "5.903832978049195e-11\n"
     ]
    }
   ],
   "source": [
    "eps = 1/10**9\n",
    "print(f'Основываясь на N(e), индекс члена последовательности должен быть > {-np.log2(eps)} ' + \n",
    "      f'\\nили при k, равном 1, > {np.log2(1 - 1/2**1) - np.log2(eps)}')\n",
    "(sum1, lim, n) = sum_n(eps)\n",
    "print (f'Численное значение предела: {sum1}\\n',f'Погрешность: {lim}\\n', f'Член последовательности: {n}')\n",
    "\n",
    "print(sum2)\n",
    "print(abs(sum2 - sum1))"
   ]
  }
 ],
 "metadata": {
  "kernelspec": {
   "display_name": "Python 3",
   "language": "python",
   "name": "python3"
  },
  "language_info": {
   "codemirror_mode": {
    "name": "ipython",
    "version": 3
   },
   "file_extension": ".py",
   "mimetype": "text/x-python",
   "name": "python",
   "nbconvert_exporter": "python",
   "pygments_lexer": "ipython3",
   "version": "3.7.3"
  }
 },
 "nbformat": 4,
 "nbformat_minor": 2
}
