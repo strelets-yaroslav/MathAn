{
 "cells": [
  {
   "cell_type": "markdown",
   "metadata": {},
   "source": [
    "__5$^*$.__  Пользуясь критерием Коши, докажите расходимость последовательности:\n",
    "\n",
    "### $$b_n=1+\\frac{1}{2}+\\frac{1}{3}+..\\frac{1}{n}\\,\\,\\,\\,\\,\\Rightarrow$$\n",
    "\n",
    "### $$\\Bigl\\{b_n\\Bigr\\}_{n=1}^\\infty=\\Bigl\\{1, 1+\\frac{1}{2},1+\\frac{1}{2}+\\frac{1}{3}, ..., b_n,...\\Bigr\\}$$"
   ]
  },
  {
   "cell_type": "markdown",
   "metadata": {},
   "source": [
    "Требуется доказать, что $\\exists\\varepsilon>0\\,\\,\\,\\forall N(\\varepsilon), \\,\\,\\,\\exists n>N(\\varepsilon)\\,\\,\\,\\exists k\\geq1:|a_n-a_{n+k}|\\geq\\varepsilon$\n",
    "\n",
    "Возьмём $\\varepsilon = \\frac{1}{2}$, любое $N$, $n > N$ и $k = n$, тогда:\n",
    "\n",
    "$$|a_n - a_{n+k}| = |\\sum_{i=1}^{n} \\frac{1}{i} - \\sum_{i=1}^{n+k} \\frac{1}{i} | = \\sum_{i=n+1}^{2*n} \\frac{1}{i} > \\sum_{i=n+1}^{2*n} \\frac{1}{2*n} = \\frac{1}{2*n} * n = \\frac{1}{2} = \\varepsilon$$"
   ]
  }
 ],
 "metadata": {
  "kernelspec": {
   "display_name": "Python 3",
   "language": "python",
   "name": "python3"
  },
  "language_info": {
   "codemirror_mode": {
    "name": "ipython",
    "version": 3
   },
   "file_extension": ".py",
   "mimetype": "text/x-python",
   "name": "python",
   "nbconvert_exporter": "python",
   "pygments_lexer": "ipython3",
   "version": "3.7.3"
  }
 },
 "nbformat": 4,
 "nbformat_minor": 2
}
