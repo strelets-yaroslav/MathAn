{
 "cells": [
  {
   "cell_type": "markdown",
   "metadata": {},
   "source": [
    "__3$^*$.__ Тоже задание, только в виде суммы шести дробей."
   ]
  },
  {
   "cell_type": "markdown",
   "metadata": {},
   "source": [
    "Воспользуемся предыдущим равенством: $1 = \\frac{1}{2} + \\frac{1}{3} + \\frac{1}{6}$ и выразим из него меньший член суммы $\\frac{1}{6}$, поделив обе части на 6.\n",
    "\n",
    "$$\\frac{1}{6} = \\frac{1}{12} + \\frac{1}{18} + \\frac{1}{36}$$\n",
    "\n",
    "Далее выразим первые два члена начального равенства через $\\frac{1}{6}$:\n",
    "\n",
    "$$\\frac{1}{2} = \\frac{3}{6} = \\frac{3}{12} + \\frac{3}{18} + \\frac{3}{36} = \\frac{1}{4} + \\frac{1}{6} + \\frac{1}{12}$$\n",
    "\n",
    "$$\\frac{1}{3} = \\frac{2}{6} = \\frac{2}{12} + \\frac{2}{18} + \\frac{2}{36} = \\frac{1}{6} + \\frac{1}{9} + \\frac{1}{18}$$\n",
    "\n",
    "Подставляем оба равенства в первое:\n",
    "\n",
    "$$\\frac{1}{4} + \\frac{1}{6} + \\frac{1}{12} + \\frac{1}{6} + \\frac{1}{9} + \\frac{1}{18} + \\frac{1}{6}$$\n",
    "\n",
    "Сложим первые две дроби $\\frac{1}{6}$ и получим:\n",
    "\n",
    "$$\\frac{1}{3} + \\frac{1}{4} + \\frac{1}{6} + \\frac{1}{9} + \\frac{1}{12} + \\frac{1}{18}$$"
   ]
  },
  {
   "cell_type": "code",
   "execution_count": 1,
   "metadata": {},
   "outputs": [
    {
     "data": {
      "text/plain": [
       "True"
      ]
     },
     "execution_count": 1,
     "metadata": {},
     "output_type": "execute_result"
    }
   ],
   "source": [
    "round(1/3+1/4+1/6+1/9+1/12+1/18, 10) == 1"
   ]
  }
 ],
 "metadata": {
  "kernelspec": {
   "display_name": "Python 3",
   "language": "python",
   "name": "python3"
  },
  "language_info": {
   "codemirror_mode": {
    "name": "ipython",
    "version": 3
   },
   "file_extension": ".py",
   "mimetype": "text/x-python",
   "name": "python",
   "nbconvert_exporter": "python",
   "pygments_lexer": "ipython3",
   "version": "3.7.3"
  }
 },
 "nbformat": 4,
 "nbformat_minor": 2
}
