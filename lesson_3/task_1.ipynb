{
 "cells": [
  {
   "cell_type": "markdown",
   "metadata": {},
   "source": [
    "__1.__ Найти предел последовательности:\n",
    "\n",
    "### $$а)\\,\\,\\,\\,\\lim_{n\\to \\infty} \\frac{(23-2n^2)(3n^2+17)^2}{4n^6+n-1}$$\n",
    "\n",
    "### $$б)\\,\\,\\,\\,\\lim_{n\\to \\infty} \\frac{(97-2n)^3}{2n(3n^2+15)+8n}$$\n",
    "\n",
    "### $$в)\\,\\,\\,\\,\\lim_{n\\to \\infty} \\frac{2n^3+13n(n+18)}{(27-n)(2n+19)^2}$$\n",
    "\n",
    "### $$г)\\,\\,\\,\\,\\lim_{n\\to \\infty} (\\sqrt{n^2+1}-n)$$\n",
    "\n",
    "### $$д)\\,\\,\\,\\,\\lim_{n\\to \\infty} \\frac{(-4)^n+5\\cdot7^n}{(-4)^{n-1}+7^{n+2}}$$\n",
    "\n",
    "### $$e)^*\\,\\,\\,\\,\\lim_{n\\to \\infty} \\Bigl(\\frac{1}{1\\cdot2}+\\frac{1}{2\\cdot3}+\\frac{1}{3\\cdot4}+...+\\frac{1}{(n-1)\\cdot n}\\Bigr)$$"
   ]
  },
  {
   "cell_type": "code",
   "execution_count": 1,
   "metadata": {},
   "outputs": [],
   "source": [
    "from sympy import *\n",
    "import warnings\n",
    "warnings.filterwarnings('ignore')\n",
    "init_printing()"
   ]
  },
  {
   "cell_type": "markdown",
   "metadata": {},
   "source": [
    "$$а)\\,\\,\\,\\,\\lim_{n\\to \\infty} \\frac{(23-2n^2)(3n^2+17)^2}{4n^6+n-1}$$\n",
    "\n",
    "Здесь максимальные степени в числителе и знаменателе равны 6 -> находим множители при этих степенях: $\\frac{(-2)*3^2}{4} = -\\frac{9}{2}$.\n",
    "\n",
    "$$\\,\\,\\,\\,\\lim_{n\\to \\infty} \\frac{(23-2n^2)(3n^2+17)^2}{4n^6+n-1} = -4.5$$"
   ]
  },
  {
   "cell_type": "code",
   "execution_count": 2,
   "metadata": {},
   "outputs": [
    {
     "data": {
      "image/png": "[encoded data removed]",
      "text/latex": [
       "$\\displaystyle \\frac{\\left(23 - 2 n^{2}\\right) \\left(3 n^{2} + 17\\right)^{2}}{4 n^{6} - 1}$"
      ],
      "text/plain": [
       "                       2\n",
       "⎛        2⎞ ⎛   2     ⎞ \n",
       "⎝23 - 2⋅n ⎠⋅⎝3⋅n  + 17⎠ \n",
       "────────────────────────\n",
       "           6            \n",
       "        4⋅n  - 1        "
      ]
     },
     "execution_count": 2,
     "metadata": {},
     "output_type": "execute_result"
    }
   ],
   "source": [
    "n = Symbol('n')\n",
    "a = (23 - 2 * n**2) * (3 * n**2 + 17)**2 / (4 * n**6 - 1)\n",
    "a"
   ]
  },
  {
   "cell_type": "code",
   "execution_count": 3,
   "metadata": {},
   "outputs": [
    {
     "data": {
      "image/png": "[encoded data removed]",
      "text/latex": [
       "$\\displaystyle - \\frac{9}{2}$"
      ],
      "text/plain": [
       "-9/2"
      ]
     },
     "execution_count": 3,
     "metadata": {},
     "output_type": "execute_result"
    }
   ],
   "source": [
    "limit(a, n, oo)"
   ]
  },
  {
   "cell_type": "markdown",
   "metadata": {},
   "source": [
    "$$б)\\,\\,\\,\\,\\lim_{n\\to \\infty} \\frac{(97-2n)^3}{2n(3n^2+15)+8n}$$\n",
    "\n",
    "Здесь максимальные степени в числителе и знаменателе равны 3 -> находим множители при этих степенях: $\\frac{(-2)^3}{2*3} = -\\frac{4}{3}$.\n",
    "\n",
    "$$\\,\\,\\,\\,\\lim_{n\\to \\infty} \\frac{(97-2n)^3}{2n(3n^2+15)+8n} = -\\frac{4}{3}$$"
   ]
  },
  {
   "cell_type": "code",
   "execution_count": 4,
   "metadata": {},
   "outputs": [
    {
     "data": {
      "image/png": "[encoded data removed]",
      "text/latex": [
       "$\\displaystyle \\frac{\\left(97 - 2 n\\right)^{3}}{2 n \\left(3 n^{2} + 15\\right) + 8 n}$"
      ],
      "text/plain": [
       "               3     \n",
       "     (97 - 2⋅n)      \n",
       "─────────────────────\n",
       "    ⎛   2     ⎞      \n",
       "2⋅n⋅⎝3⋅n  + 15⎠ + 8⋅n"
      ]
     },
     "execution_count": 4,
     "metadata": {},
     "output_type": "execute_result"
    }
   ],
   "source": [
    "a = (97 - 2 * n)**3 / (2 * n * (3 * n**2 + 15) + 8 * n)\n",
    "a"
   ]
  },
  {
   "cell_type": "code",
   "execution_count": 5,
   "metadata": {},
   "outputs": [
    {
     "data": {
      "image/png": "[encoded data removed]",
      "text/latex": [
       "$\\displaystyle - \\frac{4}{3}$"
      ],
      "text/plain": [
       "-4/3"
      ]
     },
     "execution_count": 5,
     "metadata": {},
     "output_type": "execute_result"
    }
   ],
   "source": [
    "limit(a, n, oo)"
   ]
  },
  {
   "cell_type": "markdown",
   "metadata": {},
   "source": [
    "$$в)\\,\\,\\,\\,\\lim_{n\\to \\infty} \\frac{2n^3+13n(n+18)}{(27-n)(2n+19)^2}$$\n",
    "\n",
    "Здесь максимальные степени в числителе и знаменателе равны 3 -> находим множители при этих степенях: $\\frac{2}{(-1)*2^2} = -\\frac{1}{2}$.\n",
    "\n",
    "$$\\,\\,\\,\\,\\lim_{n\\to \\infty} \\frac{2n^3+13n(n+18)}{(27-n)(2n+19)^2} = -0.5$$"
   ]
  },
  {
   "cell_type": "code",
   "execution_count": 6,
   "metadata": {},
   "outputs": [
    {
     "data": {
      "image/png": "[encoded data removed]",
      "text/latex": [
       "$\\displaystyle \\frac{2 n^{3} + 13 n \\left(n + 18\\right)}{\\left(27 - n\\right) \\left(2 n + 19\\right)^{2}}$"
      ],
      "text/plain": [
       "   3                \n",
       "2⋅n  + 13⋅n⋅(n + 18)\n",
       "────────────────────\n",
       "                   2\n",
       "(27 - n)⋅(2⋅n + 19) "
      ]
     },
     "execution_count": 6,
     "metadata": {},
     "output_type": "execute_result"
    }
   ],
   "source": [
    "a = (2 * n**3 + 13 * n * (n + 18)) / ((27 - n) * (2 * n + 19)**2)\n",
    "a"
   ]
  },
  {
   "cell_type": "code",
   "execution_count": 7,
   "metadata": {},
   "outputs": [
    {
     "data": {
      "image/png": "[encoded data removed]",
      "text/latex": [
       "$\\displaystyle - \\frac{1}{2}$"
      ],
      "text/plain": [
       "-1/2"
      ]
     },
     "execution_count": 7,
     "metadata": {},
     "output_type": "execute_result"
    }
   ],
   "source": [
    "limit(a, n, oo)"
   ]
  },
  {
   "cell_type": "markdown",
   "metadata": {},
   "source": [
    "$$г)\\,\\,\\,\\,\\lim_{n\\to \\infty} (\\sqrt{n^2+1}-n)$$\n",
    "\n",
    "Здесь имеем неопределённость $\\infty - \\infty$. Сводим к $\\frac{\\infty}{\\infty}$ через сопряжённое выражение:\n",
    "\n",
    "$$lim_{n\\to \\infty} (\\sqrt{n^2+1}-n) = lim_{n\\to \\infty} ((\\sqrt{n^2+1}-n) * \\frac{\\sqrt{n^2+1}+n}{\\sqrt{n^2+1}+n}) = lim_{n\\to \\infty} (\\frac{n^2+1-n^2)}{\\sqrt{n^2+1}+n}) = lim_{n\\to \\infty} (\\frac{1}{\\sqrt{n^2+1}+n}) = \\left( \\frac{1}{\\infty} \\right) = 0$$"
   ]
  },
  {
   "cell_type": "code",
   "execution_count": 8,
   "metadata": {},
   "outputs": [
    {
     "data": {
      "image/png": "[encoded data removed]",
      "text/latex": [
       "$\\displaystyle - n + \\sqrt{n^{2} + 1}$"
      ],
      "text/plain": [
       "        ________\n",
       "       ╱  2     \n",
       "-n + ╲╱  n  + 1 "
      ]
     },
     "execution_count": 8,
     "metadata": {},
     "output_type": "execute_result"
    }
   ],
   "source": [
    "a = sqrt(n**2 + 1) - n\n",
    "a"
   ]
  },
  {
   "cell_type": "code",
   "execution_count": 9,
   "metadata": {},
   "outputs": [
    {
     "data": {
      "image/png": "[encoded data removed]",
      "text/latex": [
       "$\\displaystyle 0$"
      ],
      "text/plain": [
       "0"
      ]
     },
     "execution_count": 9,
     "metadata": {},
     "output_type": "execute_result"
    }
   ],
   "source": [
    "limit(a, n, oo)"
   ]
  },
  {
   "cell_type": "markdown",
   "metadata": {},
   "source": [
    "$$д)\\,\\,\\,\\,\\lim_{n\\to \\infty} \\frac{(-4)^n+5\\cdot7^n}{(-4)^{n-1}+7^{n+2}}$$\n",
    "\n",
    "Выносим за скобку максимальное по модулю основание: \n",
    "\n",
    "$$\\frac{7^n * ((\\frac{-4}{7})^n + 5)}{7^n * (\\frac{(-4)^{n-1}}{7^n}) + 7^2)}$$\n",
    "\n",
    "$$\\lim_{n\\to \\infty} \\frac{7^n * ((\\frac{-4}{7})^n + 5)}{7^n * ((-\\frac{1}{4})*(\\frac{-4}{7})^n + 49)} = \\frac{5}{49}$$"
   ]
  },
  {
   "cell_type": "markdown",
   "metadata": {},
   "source": [
    "$$e)^*\\,\\,\\,\\,\\lim_{n\\to \\infty} \\Bigl(\\frac{1}{1\\cdot2}+\\frac{1}{2\\cdot3}+\\frac{1}{3\\cdot4}+...+\\frac{1}{(n-1)\\cdot n}\\Bigr)$$\n",
    "\n",
    "Рассмотрим для первых $n$, представляя в другом виде:\n",
    "\n",
    "$$a_1 = \\frac{1}{2} = 1 - \\frac{1}{2},\\, a_2 = \\frac{1}{2} + \\frac{1}{2*3} = (1 - \\frac{1}{2}) + (\\frac{1}{2} - \\frac{1}{3}),\\,a_3 = \\frac{1}{2} + \\frac{1}{2*3} + \\frac{1}{3*4} = (1 - \\frac{1}{2}) + (\\frac{1}{2} - \\frac{1}{3}) + (\\frac{1}{3} - \\frac{1}{4}),\\,a_4 = \\frac{1}{2} + \\frac{1}{2*3} + \\frac{1}{3*4} + \\frac{1}{4*5} = (1 - \\frac{1}{2}) + (\\frac{1}{2} - \\frac{1}{3}) + (\\frac{1}{3} - \\frac{1}{4}) + (\\frac{1}{4} - \\frac{1}{5}),...$$\n",
    "\n",
    "$$a_1 = 1 - \\frac{1}{2},\\,a_2 = 1 - \\frac{1}{3},\\,a_3 = 1 - \\frac{1}{4},\\,a_4 = 1 - \\frac{1}{5},...$$\n",
    "\n",
    "Тогда $a_{n-1} = 1 - \\frac{1}{n}$ ($(n-1)$-й - учитывая вид последнего элемента суммы). Тогда $lim_{n\\to \\infty} \\Bigl(\\frac{1}{1\\cdot2}+\\frac{1}{2\\cdot3}+\\frac{1}{3\\cdot4}+...+\\frac{1}{(n-1)\\cdot n}\\Bigr) = \\lim_{n\\to \\infty} \\left( 1 - \\frac{1}{n} \\right) = 1$\n",
    "\n",
    "В качестве вопроса: возможно, корректнее последний элемент записывать в виде $\\frac{1}{n*(n + 1)}$, тогда при $n = 1$ получим корректно $\\frac{1}{2}$, а не деление на 0..."
   ]
  }
 ],
 "metadata": {
  "kernelspec": {
   "display_name": "Python 3",
   "language": "python",
   "name": "python3"
  },
  "language_info": {
   "codemirror_mode": {
    "name": "ipython",
    "version": 3
   },
   "file_extension": ".py",
   "mimetype": "text/x-python",
   "name": "python",
   "nbconvert_exporter": "python",
   "pygments_lexer": "ipython3",
   "version": "3.7.3"
  }
 },
 "nbformat": 4,
 "nbformat_minor": 2
}
