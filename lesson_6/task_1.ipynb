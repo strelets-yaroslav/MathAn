{
 "cells": [
  {
   "cell_type": "markdown",
   "metadata": {},
   "source": [
    "1. Найти производную $y'_{x}$ функции:\n",
    "\n",
    "### $$\\mbox{arctg}(\\frac{y}{x})=\\ln \\sqrt{x^2+y^2}$$"
   ]
  },
  {
   "cell_type": "markdown",
   "metadata": {},
   "source": [
    "Представляем в виде неявной функции $F(x, y(x))$:\n",
    "$$F(x, y(x)) = \\mbox{arctg}(\\frac{y}{x}) - \\ln \\sqrt{x^2 + y^2} = 0$$\n",
    "$$y'_{x} = -\\frac{F'_{x}}{F'_{y}} = -\\frac{\\frac{1}{1 + (\\frac{y}{x})^2} * (-\\frac{y}{x^2}) - \\frac{1}{\\sqrt{x^2 + y^2}} * \\frac{x}{\\sqrt{x^2 + y^2}}}{\\frac{1}{1 + (\\frac{y}{x})^2} * \\frac{1}{x} - \\frac{1}{\\sqrt{x^2 + y^2}} * \\frac{y}{\\sqrt{x^2 + y^2}}}$$\n",
    "\n",
    "$$y'_{x} = \\frac{\\frac{y}{x^2 * (1 + \\frac{y^2}{x^2})} + \\frac{x}{x^2 + y^2}}{\\frac{x}{x^2 * (1 + \\frac{y^2}{x^2})} - \\frac{y}{x^2 + y^2}} = \\frac{\\frac{x + y}{x^2 + y^2}}{\\frac{x - y}{x^2 + y^2}} = \\frac{x + y}{x - y}$$"
   ]
  },
  {
   "cell_type": "code",
   "execution_count": 3,
   "metadata": {},
   "outputs": [],
   "source": [
    "from sympy import *\n",
    "import warnings\n",
    "warnings.filterwarnings('ignore')\n",
    "init_printing()"
   ]
  },
  {
   "cell_type": "code",
   "execution_count": 4,
   "metadata": {},
   "outputs": [
    {
     "data": {
      "image/png": "[encoded data removed]",
      "text/latex": [
       "$\\displaystyle - \\log{\\left(\\sqrt{x^{2} + y^{2}} \\right)} + \\operatorname{atan}{\\left(\\frac{y}{x} \\right)}$"
      ],
      "text/plain": [
       "     ⎛   _________⎞          \n",
       "     ⎜  ╱  2    2 ⎟       ⎛y⎞\n",
       "- log⎝╲╱  x  + y  ⎠ + atan⎜─⎟\n",
       "                          ⎝x⎠"
      ]
     },
     "execution_count": 4,
     "metadata": {},
     "output_type": "execute_result"
    }
   ],
   "source": [
    "x,y=symbols('x y')\n",
    "f=atan(y/x) - log(sqrt(x**2 + y**2))\n",
    "f"
   ]
  },
  {
   "cell_type": "code",
   "execution_count": 5,
   "metadata": {},
   "outputs": [
    {
     "data": {
      "image/png": "[encoded data removed]",
      "text/latex": [
       "$\\displaystyle \\frac{\\frac{x}{x^{2} + y^{2}} + \\frac{y}{x^{2} \\left(1 + \\frac{y^{2}}{x^{2}}\\right)}}{- \\frac{y}{x^{2} + y^{2}} + \\frac{1}{x \\left(1 + \\frac{y^{2}}{x^{2}}\\right)}}$"
      ],
      "text/plain": [
       "   x           y      \n",
       "─────── + ─────────── \n",
       " 2    2      ⎛     2⎞ \n",
       "x  + y     2 ⎜    y ⎟ \n",
       "          x ⋅⎜1 + ──⎟ \n",
       "             ⎜     2⎟ \n",
       "             ⎝    x ⎠ \n",
       "──────────────────────\n",
       "     y          1     \n",
       "- ─────── + ──────────\n",
       "   2    2     ⎛     2⎞\n",
       "  x  + y      ⎜    y ⎟\n",
       "            x⋅⎜1 + ──⎟\n",
       "              ⎜     2⎟\n",
       "              ⎝    x ⎠"
      ]
     },
     "execution_count": 5,
     "metadata": {},
     "output_type": "execute_result"
    }
   ],
   "source": [
    "-diff(f,x)/diff(f,y)"
   ]
  },
  {
   "cell_type": "code",
   "execution_count": null,
   "metadata": {},
   "outputs": [],
   "source": []
  }
 ],
 "metadata": {
  "kernelspec": {
   "display_name": "Python 3",
   "language": "python",
   "name": "python3"
  },
  "language_info": {
   "codemirror_mode": {
    "name": "ipython",
    "version": 3
   },
   "file_extension": ".py",
   "mimetype": "text/x-python",
   "name": "python",
   "nbconvert_exporter": "python",
   "pygments_lexer": "ipython3",
   "version": "3.7.3"
  }
 },
 "nbformat": 4,
 "nbformat_minor": 2
}
