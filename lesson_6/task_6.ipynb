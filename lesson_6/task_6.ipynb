{
 "cells": [
  {
   "cell_type": "markdown",
   "metadata": {},
   "source": [
    "__6*.__ Вывести табличное значение производной для функции\n",
    "\n",
    "### $$\\mbox{arctg}(x)$$"
   ]
  },
  {
   "cell_type": "markdown",
   "metadata": {},
   "source": [
    "$$y = \\mbox{arctg}(x) => x = \\mbox{tg}(y)$$\n",
    "\n",
    "$$y'_x = \\frac{1}{x'_y}$$\n",
    "\n",
    "$$x'_y = \\frac{1}{\\mbox{cos}^2(y)} = \\frac{\\mbox{cos}^2(y) + \\mbox{sin}^2(y)}{\\mbox{cos}^2(y)} = 1 + \\Bigl( \\frac{\\mbox{sin}(y)}{\\mbox{cos}(y)} \\Bigr)^2 = 1 + (\\mbox{tg}(y))^2 = 1 + (\\mbox{tg}(\\mbox{arctg}(x))^2 = 1 + x^2$$\n",
    "\n",
    "$$y'_x = \\frac{1}{1 + x^2}$$"
   ]
  },
  {
   "cell_type": "code",
   "execution_count": 1,
   "metadata": {},
   "outputs": [],
   "source": [
    "from sympy import *\n",
    "import warnings\n",
    "warnings.filterwarnings('ignore')\n",
    "init_printing()"
   ]
  },
  {
   "cell_type": "code",
   "execution_count": 3,
   "metadata": {},
   "outputs": [
    {
     "data": {
      "image/png": "[encoded data removed]",
      "text/latex": [
       "$\\displaystyle \\operatorname{atan}{\\left(x \\right)}$"
      ],
      "text/plain": [
       "atan(x)"
      ]
     },
     "execution_count": 3,
     "metadata": {},
     "output_type": "execute_result"
    }
   ],
   "source": [
    "x = Symbol('x')\n",
    "y = atan(x)\n",
    "y"
   ]
  },
  {
   "cell_type": "code",
   "execution_count": 4,
   "metadata": {},
   "outputs": [
    {
     "data": {
      "image/png": "[encoded data removed]",
      "text/latex": [
       "$\\displaystyle \\frac{1}{x^{2} + 1}$"
      ],
      "text/plain": [
       "  1   \n",
       "──────\n",
       " 2    \n",
       "x  + 1"
      ]
     },
     "execution_count": 4,
     "metadata": {},
     "output_type": "execute_result"
    }
   ],
   "source": [
    "diff(y, x)"
   ]
  },
  {
   "cell_type": "code",
   "execution_count": null,
   "metadata": {},
   "outputs": [],
   "source": []
  }
 ],
 "metadata": {
  "kernelspec": {
   "display_name": "Python 3",
   "language": "python",
   "name": "python3"
  },
  "language_info": {
   "codemirror_mode": {
    "name": "ipython",
    "version": 3
   },
   "file_extension": ".py",
   "mimetype": "text/x-python",
   "name": "python",
   "nbconvert_exporter": "python",
   "pygments_lexer": "ipython3",
   "version": "3.7.3"
  }
 },
 "nbformat": 4,
 "nbformat_minor": 2
}
