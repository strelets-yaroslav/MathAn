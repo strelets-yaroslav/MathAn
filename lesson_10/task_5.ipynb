{
 "cells": [
  {
   "cell_type": "markdown",
   "metadata": {},
   "source": [
    "__5*.__ Исследовать сходимость ряда\n",
    "\n",
    "### $$-\\frac{\\sqrt1}{2}+\\frac{\\sqrt2}{3}-\\,...\\,+\\frac{(-1)^n\\sqrt n}{n+1}+\\,...\\,=\\sum\\limits_{n=1}^{+\\infty}\\frac{(-1)^n\\sqrt n}{n+1}$$"
   ]
  },
  {
   "cell_type": "markdown",
   "metadata": {},
   "source": [
    "1. знакопостоянный ряд $\\sum\\limits_{n=1}^{+\\infty}\\frac{\\sqrt n}{n+1}$ расходится по второму признаку сходимости ($O\\Bigl(\\frac{1}{n^{\\frac{1}{2}}}\\Bigr) -> p < 1$).\n",
    "\n",
    "2. рассмотрим предел модуля главного члена: $\\lim_{n\\to +\\infty}\\frac{\\sqrt n}{n+1} = 0$, т.к. корень в числителе стремится медленнее к бесконечности, чем знаменатель. Следовательно, знакопеременный ряд сходится, причём условно."
   ]
  },
  {
   "cell_type": "code",
   "execution_count": null,
   "metadata": {},
   "outputs": [],
   "source": []
  }
 ],
 "metadata": {
  "kernelspec": {
   "display_name": "Python 3",
   "language": "python",
   "name": "python3"
  },
  "language_info": {
   "codemirror_mode": {
    "name": "ipython",
    "version": 3
   },
   "file_extension": ".py",
   "mimetype": "text/x-python",
   "name": "python",
   "nbconvert_exporter": "python",
   "pygments_lexer": "ipython3",
   "version": "3.7.3"
  }
 },
 "nbformat": 4,
 "nbformat_minor": 2
}
