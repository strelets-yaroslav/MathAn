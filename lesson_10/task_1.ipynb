{
 "cells": [
  {
   "cell_type": "markdown",
   "metadata": {},
   "source": [
    "__1.__ Исследовать сходимость ряда. \n",
    "\n",
    "\n",
    "### $$\\frac{1}{2\\sqrt2}+\\frac{1}{3\\sqrt3}+\\,...\\,+\\frac{1}{(n+1)\\sqrt{n+1}}+\\,...\\,=\\sum\\limits_{n=1}^{+\\infty}\\frac{1}{(n+1)\\sqrt{n+1}}$$\n",
    "\n",
    "(*) Двумя различными признаками."
   ]
  },
  {
   "cell_type": "markdown",
   "metadata": {},
   "source": [
    "Необходимое условие:\n",
    "\n",
    "$$\\lim_{n\\to +\\infty}a_{n}=\\lim_{n\\to +\\infty}\\frac{1}{(n + 1)\\sqrt{n + 1}} = 0$$\n",
    "\n",
    "- Второй признак сравнения.\n",
    "\n",
    "Сравнение со степенным рядом: $\\frac{1}{(n + 1)\\sqrt{n + 1}}\\,\\,\\sim\\,\\,O\\Bigl(\\frac{1}{n^{\\frac{3}{2}}}\\Bigr) $. p > 1, следовательно, ряд сходится."
   ]
  },
  {
   "cell_type": "markdown",
   "metadata": {},
   "source": [
    "- Признак д’Аламбера.\n",
    "\n",
    "$$\\lim_{n\\to +\\infty}\\frac{a_{n+1}}{a_{n}} = \\lim_{n\\to +\\infty}\\frac{(n + 1)^{\\frac{3}{2}}}{(n + 2)^{\\frac{3}{2}}} = 1 $$\n",
    "\n",
    "Признак не применим."
   ]
  },
  {
   "cell_type": "markdown",
   "metadata": {},
   "source": [
    "- Интегральный признак Коши."
   ]
  },
  {
   "cell_type": "code",
   "execution_count": 2,
   "metadata": {},
   "outputs": [
    {
     "data": {
      "image/png": "[encoded data removed]",
      "text/latex": [
       "$\\displaystyle \\frac{1}{\\left(n + 1\\right)^{\\frac{3}{2}}}$"
      ],
      "text/plain": [
       "    1     \n",
       "──────────\n",
       "       3/2\n",
       "(n + 1)   "
      ]
     },
     "execution_count": 2,
     "metadata": {},
     "output_type": "execute_result"
    }
   ],
   "source": [
    "from sympy import *\n",
    "import warnings\n",
    "warnings.filterwarnings(\"ignore\")\n",
    "init_printing()\n",
    "\n",
    "\n",
    "n = Symbol('n')\n",
    "f = 1/((n + 1)*sqrt(n + 1))\n",
    "f"
   ]
  },
  {
   "cell_type": "code",
   "execution_count": 3,
   "metadata": {},
   "outputs": [
    {
     "data": {
      "image/png": "[encoded data removed]",
      "text/latex": [
       "$\\displaystyle \\sqrt{2}$"
      ],
      "text/plain": [
       "√2"
      ]
     },
     "execution_count": 3,
     "metadata": {},
     "output_type": "execute_result"
    }
   ],
   "source": [
    "integrate(f,(n, 1, +oo))"
   ]
  },
  {
   "cell_type": "markdown",
   "metadata": {},
   "source": [
    "Интеграл посчитать получилось, следовательно, ряд сходится."
   ]
  }
 ],
 "metadata": {
  "kernelspec": {
   "display_name": "Python 3",
   "language": "python",
   "name": "python3"
  },
  "language_info": {
   "codemirror_mode": {
    "name": "ipython",
    "version": 3
   },
   "file_extension": ".py",
   "mimetype": "text/x-python",
   "name": "python",
   "nbconvert_exporter": "python",
   "pygments_lexer": "ipython3",
   "version": "3.7.3"
  }
 },
 "nbformat": 4,
 "nbformat_minor": 2
}
