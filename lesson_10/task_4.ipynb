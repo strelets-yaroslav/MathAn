{
 "cells": [
  {
   "cell_type": "markdown",
   "metadata": {},
   "source": [
    "__4*.__ Исследовать сходимость ряда\n",
    "\n",
    "### $$\\frac{3\\cdot1!}{1}+\\frac{3^2\\cdot2!}{2^2}+\\,...\\,+\\frac{3^n\\cdot n!}{n^n}+\\,...\\,=\\sum\\limits_{n=1}^{+\\infty}\\frac{3^n\\cdot n!}{n^n}$$"
   ]
  },
  {
   "cell_type": "markdown",
   "metadata": {},
   "source": [
    "- Признак д’Аламбера.\n",
    "\n",
    "$$\\lim_{n\\to +\\infty}\\frac{a_{n+1}}{a_{n}} = \\lim_{n\\to +\\infty}\\frac{3^{n + 1}(n + 1)!*n^n}{(n + 1)^{n + 1}*3^nn!} = \\lim_{n\\to +\\infty}\\frac{3n^n}{(n + 1)^n} = 3\\lim_{n\\to +\\infty}e^{n(\\ln(n) - \\ln(n + 1))} = 3\\lim_{n\\to +\\infty}e^{\\frac{\\ln(n) - \\ln(n + 1)}{n^{-1}}} $$\n",
    "\n",
    "Применим правило Лопиталя к выражению степени (предел экспоненты = экспонента предела):\n",
    "\n",
    "$$ \\lim_{n\\to +\\infty}\\frac{(\\ln(n) - \\ln(n + 1))'}{(n^{-1})'} = \\lim_{n\\to +\\infty}\\frac{\\frac{1}{n} - \\frac{1}{n + 1}}{-n^{-2}} = -\\lim_{n\\to +\\infty}\\frac{n}{n + 1} = -\\lim_{n\\to +\\infty}\\frac{1}{1 + \\frac{1}{n}} = -1$$\n",
    "\n",
    "Следовательно, $3\\lim_{n\\to +\\infty}e^{\\frac{\\ln(n) - \\ln(n + 1)}{n^{-1}}} = 3e^{-1} = \\frac{3}{e}$\n",
    "\n",
    "$\\frac{3}{e} > 1$, следовательно, ряд расходится."
   ]
  },
  {
   "cell_type": "code",
   "execution_count": null,
   "metadata": {},
   "outputs": [],
   "source": []
  }
 ],
 "metadata": {
  "kernelspec": {
   "display_name": "Python 3",
   "language": "python",
   "name": "python3"
  },
  "language_info": {
   "codemirror_mode": {
    "name": "ipython",
    "version": 3
   },
   "file_extension": ".py",
   "mimetype": "text/x-python",
   "name": "python",
   "nbconvert_exporter": "python",
   "pygments_lexer": "ipython3",
   "version": "3.7.3"
  }
 },
 "nbformat": 4,
 "nbformat_minor": 2
}
